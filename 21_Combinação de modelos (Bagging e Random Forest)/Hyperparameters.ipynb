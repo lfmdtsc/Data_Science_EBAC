{
 "cells": [
  {
   "cell_type": "markdown",
   "id": "cda5e29b",
   "metadata": {},
   "source": [
    "# <code style=\"color:red\">RANDOM FOREST - HIPERPARAMETERS:</code>"
   ]
  },
  {
   "cell_type": "markdown",
   "id": "1df132ce",
   "metadata": {},
   "source": [
    "Existem vários hiperparâmetros que podem ser controlados em uma floresta aleatória:\n",
    "\n",
    "   - N_estimators: O número de árvores de decisão sendo construídas na floresta. Os valores padrão no sklearn são 100. N_estimators são principalmente correlacionados com o tamanho dos dados, para encapsular as tendências nos dados, é necessário um número maior de DTs.\n",
    "   \n",
    "   - Critério: A função que é usada para medir a qualidade das divisões em uma árvore de decisão (Problema de Classificação). Os critérios suportados são gini: gini impureza ou entropia: ganho de informação. Em caso de regressão, o erro médio absoluto (MAE) ou o erro quadrático médio (MSE) podem ser usados. O padrão é gini e mse.\n",
    "    \n",
    "   - Max_depth: Os níveis máximos permitidos em uma árvore de decisão. Se definido como nada, a árvore de decisão continuará se dividindo até que a pureza seja alcançada.\n",
    "    \n",
    "   - Max_features: Número máximo de recursos usados para um processo de divisão de nó. Tipos: sqrt, log2. Se o total de recursos for n_features, então: sqrt(n_features) ou log2(n_features) podem ser selecionados como recursos máximos para divisão de nós.\n",
    "    - Bootstrap: amostras de bootstrap são usadas ao construir árvores de decisão se True for selecionado em bootstrap, caso contrário, dados inteiros serão usados para cada árvore de decisão.\n",
    "    \n",
    "   - Min_samples_split: Este parâmetro decide o número mínimo de amostras necessárias para dividir um nó interno. Valor padrão =2. O problema com um valor tão pequeno é que a condição é verificada no nó terminal. Se os pontos de dados no nó excederem o valor 2, ocorrerá uma divisão adicional. Considerando que, se um valor mais brando como 6 for definido, a divisão será interrompida antecipadamente e a árvore de decisão não se ajustará demais aos dados.\n",
    "    \n",
    "   - Min_sample_leaf: Este parâmetro define o número mínimo de requisitos de ponto de dados em um nó da árvore de decisão. Afeta o nó terminal e basicamente ajuda a controlar a profundidade da árvore. Se, após uma divisão, os pontos de dados em um nó ficarem abaixo do número min_sample_leaf, a divisão não será realizada e será interrompida no nó pai.\n",
    "    \n",
    "   - Max_leaf_nodes- Com a ajuda deste hiperparâmetro, uma condição pode ser definida na divisão dos nós na árvore. Assim, o crescimento da árvore fica automaticamente restrito."
   ]
  },
  {
   "cell_type": "markdown",
   "id": "9851c1e6",
   "metadata": {},
   "source": [
    "### <code style=\"color:BLUE\">Valores mais utilizados:</code>"
   ]
  },
  {
   "cell_type": "markdown",
   "id": "f1eb6a0b",
   "metadata": {},
   "source": [
    "De acordo com o site https://machinelearningmastery.com/hyperparameters-for-classification-machine-learning-algorithms/ (atualizado em 2020), os valores mais utilizados para uma boa performance no RF são os seguintes:"
   ]
  },
  {
   "cell_type": "markdown",
   "id": "e78e0b9f",
   "metadata": {},
   "source": [
    "O parâmetro mais importante é o número de recursos aleatórios a serem amostrados em cada ponto de divisão (max_features).\n",
    "\n",
    "Você pode tentar um intervalo de valores inteiros, como 1 a 20 ou 1 a metade do número de recursos de entrada.\n",
    "\n",
    "    max_features [1 a 20]\n",
    "\n",
    "Como alternativa, você pode tentar um conjunto de diferentes calculadoras de valor padrão.\n",
    "\n",
    "    max_features em ['sqrt', 'log2']\n",
    "\n",
    "Outro parâmetro importante para random forest é o número de árvores (n_estimators).\n",
    "\n",
    "Idealmente, isso deve ser aumentado até que nenhuma melhoria adicional seja observada no modelo.\n",
    "\n",
    "Bons valores podem ser uma escala logarítmica de 10 a 1.000.\n",
    "\n",
    "    n_estimadores em [10, 100, 1000]\n",
    "\n"
   ]
  }
 ],
 "metadata": {
  "kernelspec": {
   "display_name": "Python 3 (ipykernel)",
   "language": "python",
   "name": "python3"
  },
  "language_info": {
   "codemirror_mode": {
    "name": "ipython",
    "version": 3
   },
   "file_extension": ".py",
   "mimetype": "text/x-python",
   "name": "python",
   "nbconvert_exporter": "python",
   "pygments_lexer": "ipython3",
   "version": "3.9.16"
  }
 },
 "nbformat": 4,
 "nbformat_minor": 5
}
