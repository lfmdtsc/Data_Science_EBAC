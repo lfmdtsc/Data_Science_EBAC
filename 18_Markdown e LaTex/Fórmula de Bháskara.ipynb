{
 "cells": [
  {
   "cell_type": "markdown",
   "id": "d6e1a2f4",
   "metadata": {},
   "source": [
    "### <span style='color:blue'> Fórmula de Bhaskara </span> "
   ]
  },
  {
   "cell_type": "markdown",
   "id": "a3ad4bda",
   "metadata": {},
   "source": [
    "A solução para uma função de segundo grau depende das suas raízes (valores de x). Como já vimos, os coeficientes precisam ser números reais e o angular diferente de zero. Sendo assim, temos a seguinte fórmula de Bhaskara:"
   ]
  },
  {
   "cell_type": "markdown",
   "id": "cddc684f",
   "metadata": {},
   "source": [
    "Para melhor compreensão o seu cálculo é dividido em duas partes: discriminante da equação e operações para determinar as raízes."
   ]
  },
  {
   "cell_type": "markdown",
   "id": "20178958",
   "metadata": {},
   "source": [
    "$$x = \\frac{-b  \\pm  \\sqrt{b^2 - 4.a.c} }{2.a} $$"
   ]
  },
  {
   "cell_type": "markdown",
   "id": "76429c89",
   "metadata": {},
   "source": [
    "######  <center>Fórmula de Bhaskara</center>"
   ]
  },
  {
   "cell_type": "markdown",
   "id": "82aedc30",
   "metadata": {},
   "source": [
    "###### <span style='color:black'> Discriminante: </span>"
   ]
  },
  {
   "cell_type": "markdown",
   "id": "a99d267b",
   "metadata": {},
   "source": [
    "A figura dentro da raiz na fórmula de Bhaskara é nomeada de discriminante. Seu símbolo é a letra grega delta e apresenta a determinada fórmula:"
   ]
  },
  {
   "cell_type": "markdown",
   "id": "de9cf608",
   "metadata": {},
   "source": [
    "$$ \\Delta = b^2 - 4.a.c $$"
   ]
  },
  {
   "cell_type": "markdown",
   "id": "d36f7a26",
   "metadata": {},
   "source": [
    "######  <center>Fórmula da  discriminante</center>"
   ]
  },
  {
   "cell_type": "markdown",
   "id": "12abdc58",
   "metadata": {},
   "source": [
    "- Se o delta for maior que zero, a equação terá dois valores reais e distintos.\n",
    "- Se o delta for igual a zero, a equação terá somente um valor real ou dois resultados iguais.\n",
    "- Se o delta for menor que zero, a equação não possuirá valores reais."
   ]
  }
 ],
 "metadata": {
  "kernelspec": {
   "display_name": "Python 3 (ipykernel)",
   "language": "python",
   "name": "python3"
  },
  "language_info": {
   "codemirror_mode": {
    "name": "ipython",
    "version": 3
   },
   "file_extension": ".py",
   "mimetype": "text/x-python",
   "name": "python",
   "nbconvert_exporter": "python",
   "pygments_lexer": "ipython3",
   "version": "3.9.13"
  }
 },
 "nbformat": 4,
 "nbformat_minor": 5
}
