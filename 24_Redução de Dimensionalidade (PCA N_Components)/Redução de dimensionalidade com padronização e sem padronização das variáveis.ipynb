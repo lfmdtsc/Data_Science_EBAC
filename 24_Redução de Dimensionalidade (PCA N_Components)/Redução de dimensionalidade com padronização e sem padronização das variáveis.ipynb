{
 "cells": [
  {
   "cell_type": "markdown",
   "metadata": {},
   "source": [
    "![Cabec%CC%A7alho_notebook.png](cabecalho_notebook.png)"
   ]
  },
  {
   "cell_type": "markdown",
   "metadata": {},
   "source": [
    "# Classificação de Atividade Humana com PCA\n",
    "\n",
    "Vamos trabalhar com a base da demonstração feita em aula, mas vamos explorar um pouco melhor como é o desempenho da árvore variando o número de componentes principais."
   ]
  },
  {
   "cell_type": "code",
   "execution_count": 38,
   "metadata": {
    "ExecuteTime": {
     "end_time": "2023-07-20T13:06:46.910523Z",
     "start_time": "2023-07-20T13:06:41.876537Z"
    }
   },
   "outputs": [],
   "source": [
    "import pandas as pd\n",
    "import matplotlib.pyplot as plt\n",
    "import numpy as np\n",
    "import seaborn as sns\n",
    "\n",
    "from sklearn.tree import DecisionTreeClassifier\n",
    "\n",
    "from sklearn.decomposition import PCA\n",
    "from sklearn.tree import DecisionTreeClassifier\n",
    "from sklearn.metrics import accuracy_score\n",
    "from sklearn.metrics import confusion_matrix, ConfusionMatrixDisplay\n",
    "from sklearn.model_selection import train_test_split\n",
    "from sklearn.metrics import mean_squared_error\n",
    "\n",
    "\n",
    "filename_features = \"../Dados/UCI HAR Dataset/features.txt\"\n",
    "filename_labels = \"../Dados/UCI HAR Dataset/activity_labels.txt\"\n",
    "\n",
    "filename_subtrain = \"../Dados/UCI HAR Dataset/train/subject_train.txt\"\n",
    "filename_xtrain = \"../Dados/UCI HAR Dataset/train/X_train.txt\"\n",
    "filename_ytrain = \"../Dados/UCI HAR Dataset/train/y_train.txt\"\n",
    "\n",
    "filename_subtest = \"../Dados/UCI HAR Dataset/test/subject_test.txt\"\n",
    "ffilename_xtest = \"../Dados/UCI HAR Dataset/test/X_test.txt\"\n",
    "filename_ytest = \"../Dados/UCI HAR Dataset/test/y_test.txt\"\n",
    "\n",
    "features = pd.read_csv(filename_features, header=None, names=['nome_var'], sep=\"#\")\n",
    "lista_colunas = features['nome_var']\n",
    "labels = pd.read_csv(filename_labels, delim_whitespace=True, header=None, names=['cod_label', 'label'])\n",
    "\n",
    "subject_train = pd.read_csv(filename_subtrain, header=None, names=['subject_id'])\n",
    "X_train = pd.read_csv(filename_xtrain, delim_whitespace=True, header=None, names=lista_colunas)\n",
    "y_train = pd.read_csv(filename_ytrain, header=None, names=['cod_label'])\n",
    "\n",
    "subject_test = pd.read_csv(filename_subtest, header=None, names=['subject_id'])\n",
    "X_test = pd.read_csv(ffilename_xtest, delim_whitespace=True, header=None, names=lista_colunas)\n",
    "y_test = pd.read_csv(filename_ytest, header=None, names=['cod_label'])"
   ]
  },
  {
   "cell_type": "code",
   "execution_count": 39,
   "metadata": {
    "ExecuteTime": {
     "end_time": "2023-07-20T13:06:50.218376Z",
     "start_time": "2023-07-20T13:06:50.172066Z"
    }
   },
   "outputs": [],
   "source": [
    "X_train, X_test, y_train, y_test = train_test_split(X_train, y_train)"
   ]
  },
  {
   "cell_type": "code",
   "execution_count": 40,
   "metadata": {
    "ExecuteTime": {
     "end_time": "2023-07-20T13:06:51.137967Z",
     "start_time": "2023-07-20T13:06:51.105949Z"
    },
    "scrolled": true
   },
   "outputs": [
    {
     "data": {
      "text/html": [
       "<div>\n",
       "<style scoped>\n",
       "    .dataframe tbody tr th:only-of-type {\n",
       "        vertical-align: middle;\n",
       "    }\n",
       "\n",
       "    .dataframe tbody tr th {\n",
       "        vertical-align: top;\n",
       "    }\n",
       "\n",
       "    .dataframe thead th {\n",
       "        text-align: right;\n",
       "    }\n",
       "</style>\n",
       "<table border=\"1\" class=\"dataframe\">\n",
       "  <thead>\n",
       "    <tr style=\"text-align: right;\">\n",
       "      <th></th>\n",
       "      <th>1 tBodyAcc-mean()-X</th>\n",
       "      <th>2 tBodyAcc-mean()-Y</th>\n",
       "      <th>3 tBodyAcc-mean()-Z</th>\n",
       "      <th>4 tBodyAcc-std()-X</th>\n",
       "      <th>5 tBodyAcc-std()-Y</th>\n",
       "      <th>6 tBodyAcc-std()-Z</th>\n",
       "      <th>7 tBodyAcc-mad()-X</th>\n",
       "      <th>8 tBodyAcc-mad()-Y</th>\n",
       "      <th>9 tBodyAcc-mad()-Z</th>\n",
       "      <th>10 tBodyAcc-max()-X</th>\n",
       "      <th>...</th>\n",
       "      <th>552 fBodyBodyGyroJerkMag-meanFreq()</th>\n",
       "      <th>553 fBodyBodyGyroJerkMag-skewness()</th>\n",
       "      <th>554 fBodyBodyGyroJerkMag-kurtosis()</th>\n",
       "      <th>555 angle(tBodyAccMean,gravity)</th>\n",
       "      <th>556 angle(tBodyAccJerkMean),gravityMean)</th>\n",
       "      <th>557 angle(tBodyGyroMean,gravityMean)</th>\n",
       "      <th>558 angle(tBodyGyroJerkMean,gravityMean)</th>\n",
       "      <th>559 angle(X,gravityMean)</th>\n",
       "      <th>560 angle(Y,gravityMean)</th>\n",
       "      <th>561 angle(Z,gravityMean)</th>\n",
       "    </tr>\n",
       "  </thead>\n",
       "  <tbody>\n",
       "    <tr>\n",
       "      <th>157</th>\n",
       "      <td>0.271477</td>\n",
       "      <td>-0.030746</td>\n",
       "      <td>-0.156232</td>\n",
       "      <td>-0.341699</td>\n",
       "      <td>-0.152999</td>\n",
       "      <td>0.021435</td>\n",
       "      <td>-0.380310</td>\n",
       "      <td>-0.143961</td>\n",
       "      <td>0.051974</td>\n",
       "      <td>-0.160932</td>\n",
       "      <td>...</td>\n",
       "      <td>0.088244</td>\n",
       "      <td>-0.249934</td>\n",
       "      <td>-0.572356</td>\n",
       "      <td>-0.051123</td>\n",
       "      <td>0.279915</td>\n",
       "      <td>0.984109</td>\n",
       "      <td>0.600523</td>\n",
       "      <td>-0.691890</td>\n",
       "      <td>0.309129</td>\n",
       "      <td>0.046414</td>\n",
       "    </tr>\n",
       "    <tr>\n",
       "      <th>4641</th>\n",
       "      <td>0.302501</td>\n",
       "      <td>0.007538</td>\n",
       "      <td>-0.120087</td>\n",
       "      <td>-0.011576</td>\n",
       "      <td>0.116850</td>\n",
       "      <td>-0.234030</td>\n",
       "      <td>-0.018847</td>\n",
       "      <td>0.006126</td>\n",
       "      <td>-0.270046</td>\n",
       "      <td>0.015019</td>\n",
       "      <td>...</td>\n",
       "      <td>0.383955</td>\n",
       "      <td>0.568338</td>\n",
       "      <td>0.384092</td>\n",
       "      <td>-0.076081</td>\n",
       "      <td>0.315094</td>\n",
       "      <td>0.789836</td>\n",
       "      <td>0.683187</td>\n",
       "      <td>-0.736721</td>\n",
       "      <td>0.276827</td>\n",
       "      <td>0.052737</td>\n",
       "    </tr>\n",
       "    <tr>\n",
       "      <th>2777</th>\n",
       "      <td>0.271842</td>\n",
       "      <td>-0.017619</td>\n",
       "      <td>-0.118380</td>\n",
       "      <td>-0.996401</td>\n",
       "      <td>-0.994695</td>\n",
       "      <td>-0.990656</td>\n",
       "      <td>-0.996747</td>\n",
       "      <td>-0.994529</td>\n",
       "      <td>-0.991724</td>\n",
       "      <td>-0.943987</td>\n",
       "      <td>...</td>\n",
       "      <td>0.803314</td>\n",
       "      <td>-0.836973</td>\n",
       "      <td>-0.910913</td>\n",
       "      <td>-0.118505</td>\n",
       "      <td>-0.452704</td>\n",
       "      <td>-0.349590</td>\n",
       "      <td>0.068750</td>\n",
       "      <td>0.408174</td>\n",
       "      <td>-0.728207</td>\n",
       "      <td>0.270436</td>\n",
       "    </tr>\n",
       "    <tr>\n",
       "      <th>7242</th>\n",
       "      <td>0.276674</td>\n",
       "      <td>-0.025225</td>\n",
       "      <td>-0.093870</td>\n",
       "      <td>-0.952165</td>\n",
       "      <td>-0.973999</td>\n",
       "      <td>-0.958869</td>\n",
       "      <td>-0.969607</td>\n",
       "      <td>-0.974910</td>\n",
       "      <td>-0.964060</td>\n",
       "      <td>-0.809889</td>\n",
       "      <td>...</td>\n",
       "      <td>0.098269</td>\n",
       "      <td>0.125511</td>\n",
       "      <td>-0.286778</td>\n",
       "      <td>0.059070</td>\n",
       "      <td>0.022357</td>\n",
       "      <td>0.245583</td>\n",
       "      <td>0.147080</td>\n",
       "      <td>0.514779</td>\n",
       "      <td>-0.548992</td>\n",
       "      <td>-0.451808</td>\n",
       "    </tr>\n",
       "    <tr>\n",
       "      <th>3796</th>\n",
       "      <td>0.276021</td>\n",
       "      <td>-0.025568</td>\n",
       "      <td>-0.123320</td>\n",
       "      <td>-0.995257</td>\n",
       "      <td>-0.968222</td>\n",
       "      <td>-0.989909</td>\n",
       "      <td>-0.996130</td>\n",
       "      <td>-0.967459</td>\n",
       "      <td>-0.988486</td>\n",
       "      <td>-0.939912</td>\n",
       "      <td>...</td>\n",
       "      <td>0.399684</td>\n",
       "      <td>-0.795641</td>\n",
       "      <td>-0.948120</td>\n",
       "      <td>0.042264</td>\n",
       "      <td>-0.051303</td>\n",
       "      <td>-0.481937</td>\n",
       "      <td>0.487210</td>\n",
       "      <td>-0.809683</td>\n",
       "      <td>0.191358</td>\n",
       "      <td>-0.078862</td>\n",
       "    </tr>\n",
       "  </tbody>\n",
       "</table>\n",
       "<p>5 rows × 561 columns</p>\n",
       "</div>"
      ],
      "text/plain": [
       "      1 tBodyAcc-mean()-X  2 tBodyAcc-mean()-Y  3 tBodyAcc-mean()-Z  \\\n",
       "157              0.271477            -0.030746            -0.156232   \n",
       "4641             0.302501             0.007538            -0.120087   \n",
       "2777             0.271842            -0.017619            -0.118380   \n",
       "7242             0.276674            -0.025225            -0.093870   \n",
       "3796             0.276021            -0.025568            -0.123320   \n",
       "\n",
       "      4 tBodyAcc-std()-X  5 tBodyAcc-std()-Y  6 tBodyAcc-std()-Z  \\\n",
       "157            -0.341699           -0.152999            0.021435   \n",
       "4641           -0.011576            0.116850           -0.234030   \n",
       "2777           -0.996401           -0.994695           -0.990656   \n",
       "7242           -0.952165           -0.973999           -0.958869   \n",
       "3796           -0.995257           -0.968222           -0.989909   \n",
       "\n",
       "      7 tBodyAcc-mad()-X  8 tBodyAcc-mad()-Y  9 tBodyAcc-mad()-Z  \\\n",
       "157            -0.380310           -0.143961            0.051974   \n",
       "4641           -0.018847            0.006126           -0.270046   \n",
       "2777           -0.996747           -0.994529           -0.991724   \n",
       "7242           -0.969607           -0.974910           -0.964060   \n",
       "3796           -0.996130           -0.967459           -0.988486   \n",
       "\n",
       "      10 tBodyAcc-max()-X  ...  552 fBodyBodyGyroJerkMag-meanFreq()  \\\n",
       "157             -0.160932  ...                             0.088244   \n",
       "4641             0.015019  ...                             0.383955   \n",
       "2777            -0.943987  ...                             0.803314   \n",
       "7242            -0.809889  ...                             0.098269   \n",
       "3796            -0.939912  ...                             0.399684   \n",
       "\n",
       "      553 fBodyBodyGyroJerkMag-skewness()  \\\n",
       "157                             -0.249934   \n",
       "4641                             0.568338   \n",
       "2777                            -0.836973   \n",
       "7242                             0.125511   \n",
       "3796                            -0.795641   \n",
       "\n",
       "      554 fBodyBodyGyroJerkMag-kurtosis()  555 angle(tBodyAccMean,gravity)  \\\n",
       "157                             -0.572356                        -0.051123   \n",
       "4641                             0.384092                        -0.076081   \n",
       "2777                            -0.910913                        -0.118505   \n",
       "7242                            -0.286778                         0.059070   \n",
       "3796                            -0.948120                         0.042264   \n",
       "\n",
       "      556 angle(tBodyAccJerkMean),gravityMean)  \\\n",
       "157                                   0.279915   \n",
       "4641                                  0.315094   \n",
       "2777                                 -0.452704   \n",
       "7242                                  0.022357   \n",
       "3796                                 -0.051303   \n",
       "\n",
       "      557 angle(tBodyGyroMean,gravityMean)  \\\n",
       "157                               0.984109   \n",
       "4641                              0.789836   \n",
       "2777                             -0.349590   \n",
       "7242                              0.245583   \n",
       "3796                             -0.481937   \n",
       "\n",
       "      558 angle(tBodyGyroJerkMean,gravityMean)  559 angle(X,gravityMean)  \\\n",
       "157                                   0.600523                 -0.691890   \n",
       "4641                                  0.683187                 -0.736721   \n",
       "2777                                  0.068750                  0.408174   \n",
       "7242                                  0.147080                  0.514779   \n",
       "3796                                  0.487210                 -0.809683   \n",
       "\n",
       "      560 angle(Y,gravityMean)  561 angle(Z,gravityMean)  \n",
       "157                   0.309129                  0.046414  \n",
       "4641                  0.276827                  0.052737  \n",
       "2777                 -0.728207                  0.270436  \n",
       "7242                 -0.548992                 -0.451808  \n",
       "3796                  0.191358                 -0.078862  \n",
       "\n",
       "[5 rows x 561 columns]"
      ]
     },
     "execution_count": 40,
     "metadata": {},
     "output_type": "execute_result"
    }
   ],
   "source": [
    "X_train.head()"
   ]
  },
  {
   "cell_type": "markdown",
   "metadata": {},
   "source": [
    "## PCA com variáveis padronizadas\n",
    "\n",
    "Reflexão sobre a escala das variáveis:\n",
    "\n",
    "**Variáveis em métricas muito diferentes** podem interferir na análise de componentes principais. Lembra que variância é informação pra nós? Pois bem, tipicamente se há uma variável monetária como salário, vai ter uma ordem de variabilidade bem maior que número de filhos, tempo de emprego ou qualquer variável dummy. Assim, as variáveis de maior variância tendem a \"dominar\" a análise. Nesses casos é comum usar a padronização das variáveis.\n",
    "\n",
    "Faça duas análises de componentes principais para a base do HAR - com e sem padronização e compare:\n",
    "\n",
    "- A variância explicada por componente\n",
    "- A variância explicada acumulada por componente\n",
    "- A variância percentual por componente\n",
    "- A variância percentual acumulada por componente\n",
    "- Quantas componentes você escolheria, em cada caso para explicar 90% da variância?"
   ]
  },
  {
   "cell_type": "markdown",
   "metadata": {},
   "source": [
    "## Usando Padronização dos Dados:"
   ]
  },
  {
   "cell_type": "code",
   "execution_count": 41,
   "metadata": {
    "ExecuteTime": {
     "end_time": "2023-07-20T13:06:54.518787Z",
     "start_time": "2023-07-20T13:06:54.078079Z"
    }
   },
   "outputs": [
    {
     "name": "stdout",
     "output_type": "stream",
     "text": [
      "CPU times: total: 266 ms\n",
      "Wall time: 412 ms\n"
     ]
    },
    {
     "data": {
      "text/html": [
       "<div>\n",
       "<style scoped>\n",
       "    .dataframe tbody tr th:only-of-type {\n",
       "        vertical-align: middle;\n",
       "    }\n",
       "\n",
       "    .dataframe tbody tr th {\n",
       "        vertical-align: top;\n",
       "    }\n",
       "\n",
       "    .dataframe thead th {\n",
       "        text-align: right;\n",
       "    }\n",
       "</style>\n",
       "<table border=\"1\" class=\"dataframe\">\n",
       "  <thead>\n",
       "    <tr style=\"text-align: right;\">\n",
       "      <th></th>\n",
       "      <th>1 tBodyAcc-mean()-X</th>\n",
       "      <th>2 tBodyAcc-mean()-Y</th>\n",
       "      <th>3 tBodyAcc-mean()-Z</th>\n",
       "      <th>4 tBodyAcc-std()-X</th>\n",
       "      <th>5 tBodyAcc-std()-Y</th>\n",
       "      <th>6 tBodyAcc-std()-Z</th>\n",
       "      <th>7 tBodyAcc-mad()-X</th>\n",
       "      <th>8 tBodyAcc-mad()-Y</th>\n",
       "      <th>9 tBodyAcc-mad()-Z</th>\n",
       "      <th>10 tBodyAcc-max()-X</th>\n",
       "      <th>...</th>\n",
       "      <th>552 fBodyBodyGyroJerkMag-meanFreq()</th>\n",
       "      <th>553 fBodyBodyGyroJerkMag-skewness()</th>\n",
       "      <th>554 fBodyBodyGyroJerkMag-kurtosis()</th>\n",
       "      <th>555 angle(tBodyAccMean,gravity)</th>\n",
       "      <th>556 angle(tBodyAccJerkMean),gravityMean)</th>\n",
       "      <th>557 angle(tBodyGyroMean,gravityMean)</th>\n",
       "      <th>558 angle(tBodyGyroJerkMean,gravityMean)</th>\n",
       "      <th>559 angle(X,gravityMean)</th>\n",
       "      <th>560 angle(Y,gravityMean)</th>\n",
       "      <th>561 angle(Z,gravityMean)</th>\n",
       "    </tr>\n",
       "  </thead>\n",
       "  <tbody>\n",
       "    <tr>\n",
       "      <th>157</th>\n",
       "      <td>-0.048488</td>\n",
       "      <td>-0.321306</td>\n",
       "      <td>-0.846396</td>\n",
       "      <td>0.577238</td>\n",
       "      <td>0.707570</td>\n",
       "      <td>1.493603</td>\n",
       "      <td>0.581073</td>\n",
       "      <td>0.782973</td>\n",
       "      <td>1.588529</td>\n",
       "      <td>0.552406</td>\n",
       "      <td>...</td>\n",
       "      <td>-0.133472</td>\n",
       "      <td>0.167265</td>\n",
       "      <td>0.163998</td>\n",
       "      <td>-0.188717</td>\n",
       "      <td>0.614600</td>\n",
       "      <td>1.602269</td>\n",
       "      <td>1.265256</td>\n",
       "      <td>-0.398033</td>\n",
       "      <td>0.841593</td>\n",
       "      <td>0.380187</td>\n",
       "    </tr>\n",
       "    <tr>\n",
       "      <th>4641</th>\n",
       "      <td>0.400290</td>\n",
       "      <td>0.601921</td>\n",
       "      <td>-0.198339</td>\n",
       "      <td>1.311453</td>\n",
       "      <td>1.245717</td>\n",
       "      <td>0.881311</td>\n",
       "      <td>1.432795</td>\n",
       "      <td>1.092373</td>\n",
       "      <td>0.807812</td>\n",
       "      <td>0.874428</td>\n",
       "      <td>...</td>\n",
       "      <td>1.049862</td>\n",
       "      <td>2.718402</td>\n",
       "      <td>3.267987</td>\n",
       "      <td>-0.262752</td>\n",
       "      <td>0.692889</td>\n",
       "      <td>1.283575</td>\n",
       "      <td>1.438096</td>\n",
       "      <td>-0.485305</td>\n",
       "      <td>0.732971</td>\n",
       "      <td>0.402811</td>\n",
       "    </tr>\n",
       "    <tr>\n",
       "      <th>2777</th>\n",
       "      <td>-0.043213</td>\n",
       "      <td>-0.004747</td>\n",
       "      <td>-0.167745</td>\n",
       "      <td>-0.878863</td>\n",
       "      <td>-0.970987</td>\n",
       "      <td>-0.932154</td>\n",
       "      <td>-0.871445</td>\n",
       "      <td>-0.970435</td>\n",
       "      <td>-0.941851</td>\n",
       "      <td>-0.880725</td>\n",
       "      <td>...</td>\n",
       "      <td>2.727991</td>\n",
       "      <td>-1.662956</td>\n",
       "      <td>-0.934729</td>\n",
       "      <td>-0.388595</td>\n",
       "      <td>-1.015800</td>\n",
       "      <td>-0.585596</td>\n",
       "      <td>0.153392</td>\n",
       "      <td>1.743481</td>\n",
       "      <td>-2.646690</td>\n",
       "      <td>1.181865</td>\n",
       "    </tr>\n",
       "    <tr>\n",
       "      <th>7242</th>\n",
       "      <td>0.026677</td>\n",
       "      <td>-0.188165</td>\n",
       "      <td>0.271705</td>\n",
       "      <td>-0.780479</td>\n",
       "      <td>-0.929714</td>\n",
       "      <td>-0.855967</td>\n",
       "      <td>-0.807496</td>\n",
       "      <td>-0.929991</td>\n",
       "      <td>-0.874782</td>\n",
       "      <td>-0.635301</td>\n",
       "      <td>...</td>\n",
       "      <td>-0.093356</td>\n",
       "      <td>1.337794</td>\n",
       "      <td>1.090795</td>\n",
       "      <td>0.138157</td>\n",
       "      <td>0.041420</td>\n",
       "      <td>0.390754</td>\n",
       "      <td>0.317168</td>\n",
       "      <td>1.951011</td>\n",
       "      <td>-2.044037</td>\n",
       "      <td>-1.402737</td>\n",
       "    </tr>\n",
       "    <tr>\n",
       "      <th>3796</th>\n",
       "      <td>0.017244</td>\n",
       "      <td>-0.196427</td>\n",
       "      <td>-0.256299</td>\n",
       "      <td>-0.876318</td>\n",
       "      <td>-0.918193</td>\n",
       "      <td>-0.930362</td>\n",
       "      <td>-0.869992</td>\n",
       "      <td>-0.914633</td>\n",
       "      <td>-0.934001</td>\n",
       "      <td>-0.873268</td>\n",
       "      <td>...</td>\n",
       "      <td>1.112802</td>\n",
       "      <td>-1.534092</td>\n",
       "      <td>-1.055479</td>\n",
       "      <td>0.088305</td>\n",
       "      <td>-0.122505</td>\n",
       "      <td>-0.802706</td>\n",
       "      <td>1.028334</td>\n",
       "      <td>-0.627343</td>\n",
       "      <td>0.445562</td>\n",
       "      <td>-0.068122</td>\n",
       "    </tr>\n",
       "  </tbody>\n",
       "</table>\n",
       "<p>5 rows × 561 columns</p>\n",
       "</div>"
      ],
      "text/plain": [
       "      1 tBodyAcc-mean()-X  2 tBodyAcc-mean()-Y  3 tBodyAcc-mean()-Z  \\\n",
       "157             -0.048488            -0.321306            -0.846396   \n",
       "4641             0.400290             0.601921            -0.198339   \n",
       "2777            -0.043213            -0.004747            -0.167745   \n",
       "7242             0.026677            -0.188165             0.271705   \n",
       "3796             0.017244            -0.196427            -0.256299   \n",
       "\n",
       "      4 tBodyAcc-std()-X  5 tBodyAcc-std()-Y  6 tBodyAcc-std()-Z  \\\n",
       "157             0.577238            0.707570            1.493603   \n",
       "4641            1.311453            1.245717            0.881311   \n",
       "2777           -0.878863           -0.970987           -0.932154   \n",
       "7242           -0.780479           -0.929714           -0.855967   \n",
       "3796           -0.876318           -0.918193           -0.930362   \n",
       "\n",
       "      7 tBodyAcc-mad()-X  8 tBodyAcc-mad()-Y  9 tBodyAcc-mad()-Z  \\\n",
       "157             0.581073            0.782973            1.588529   \n",
       "4641            1.432795            1.092373            0.807812   \n",
       "2777           -0.871445           -0.970435           -0.941851   \n",
       "7242           -0.807496           -0.929991           -0.874782   \n",
       "3796           -0.869992           -0.914633           -0.934001   \n",
       "\n",
       "      10 tBodyAcc-max()-X  ...  552 fBodyBodyGyroJerkMag-meanFreq()  \\\n",
       "157              0.552406  ...                            -0.133472   \n",
       "4641             0.874428  ...                             1.049862   \n",
       "2777            -0.880725  ...                             2.727991   \n",
       "7242            -0.635301  ...                            -0.093356   \n",
       "3796            -0.873268  ...                             1.112802   \n",
       "\n",
       "      553 fBodyBodyGyroJerkMag-skewness()  \\\n",
       "157                              0.167265   \n",
       "4641                             2.718402   \n",
       "2777                            -1.662956   \n",
       "7242                             1.337794   \n",
       "3796                            -1.534092   \n",
       "\n",
       "      554 fBodyBodyGyroJerkMag-kurtosis()  555 angle(tBodyAccMean,gravity)  \\\n",
       "157                              0.163998                        -0.188717   \n",
       "4641                             3.267987                        -0.262752   \n",
       "2777                            -0.934729                        -0.388595   \n",
       "7242                             1.090795                         0.138157   \n",
       "3796                            -1.055479                         0.088305   \n",
       "\n",
       "      556 angle(tBodyAccJerkMean),gravityMean)  \\\n",
       "157                                   0.614600   \n",
       "4641                                  0.692889   \n",
       "2777                                 -1.015800   \n",
       "7242                                  0.041420   \n",
       "3796                                 -0.122505   \n",
       "\n",
       "      557 angle(tBodyGyroMean,gravityMean)  \\\n",
       "157                               1.602269   \n",
       "4641                              1.283575   \n",
       "2777                             -0.585596   \n",
       "7242                              0.390754   \n",
       "3796                             -0.802706   \n",
       "\n",
       "      558 angle(tBodyGyroJerkMean,gravityMean)  559 angle(X,gravityMean)  \\\n",
       "157                                   1.265256                 -0.398033   \n",
       "4641                                  1.438096                 -0.485305   \n",
       "2777                                  0.153392                  1.743481   \n",
       "7242                                  0.317168                  1.951011   \n",
       "3796                                  1.028334                 -0.627343   \n",
       "\n",
       "      560 angle(Y,gravityMean)  561 angle(Z,gravityMean)  \n",
       "157                   0.841593                  0.380187  \n",
       "4641                  0.732971                  0.402811  \n",
       "2777                 -2.646690                  1.181865  \n",
       "7242                 -2.044037                 -1.402737  \n",
       "3796                  0.445562                 -0.068122  \n",
       "\n",
       "[5 rows x 561 columns]"
      ]
     },
     "execution_count": 41,
     "metadata": {},
     "output_type": "execute_result"
    }
   ],
   "source": [
    "%%time\n",
    "\n",
    "def padroniza(s):\n",
    "    if s.std() > 0:\n",
    "        s = (s - s.mean())/s.std()\n",
    "    return s\n",
    "\n",
    "X_train_pad = pd.DataFrame(X_train).apply(padroniza, axis=0)\n",
    "X_train_pad.head()"
   ]
  },
  {
   "cell_type": "code",
   "execution_count": 42,
   "metadata": {
    "ExecuteTime": {
     "end_time": "2023-07-20T13:06:56.480286Z",
     "start_time": "2023-07-20T13:06:56.091336Z"
    }
   },
   "outputs": [],
   "source": [
    "prcomp = PCA().fit(X_train_pad)"
   ]
  },
  {
   "cell_type": "code",
   "execution_count": 43,
   "metadata": {
    "ExecuteTime": {
     "end_time": "2023-07-20T13:06:56.976408Z",
     "start_time": "2023-07-20T13:06:56.953336Z"
    }
   },
   "outputs": [],
   "source": [
    "def screeplot(prcomp, ncomp = 0, varexplicada=0, criterio=1):\n",
    "    \n",
    "    if ncomp>0:\n",
    "        ncomp_crit=ncomp\n",
    "    elif varexplicada > 0:\n",
    "        ncomp_crit = (prcomp.explained_variance_ratio_.cumsum()<varexplicada).sum()+1 \n",
    "        # Critério 1: autovalor padronizado > 1\n",
    "    elif criterio == 1:\n",
    "        ncomp_crit = (prcomp.explained_variance_ratio_>1/prcomp.n_components_).sum()\n",
    "    else: ncomp_crit = None\n",
    "    \n",
    "    fig, ax = plt.subplots(2, 2, sharex=True, figsize=(14, 8))\n",
    "    plt.subplots_adjust(hspace=0, wspace=.15)\n",
    "\n",
    "\n",
    "    num_componentes = np.arange(prcomp.n_components_) + 1\n",
    "    ax[0,0].plot(num_componentes, prcomp.explained_variance_, 'o-', linewidth=2, color='blue', markersize=2, alpha=.2)\n",
    "    ax[0,0].set_title('Scree Plot - Variância total')\n",
    "    ax[0,0].set_xlabel('Número de componentes')\n",
    "    ax[0,0].set_ylabel('Variancia explicada (Autovalores)')\n",
    "\n",
    "    ax[1,0].plot(num_componentes, prcomp.explained_variance_.cumsum(), 'o-', linewidth=2, color='blue', markersize=2, alpha=.2)\n",
    "    ax[1,0].set_xlabel('Número de componentes')\n",
    "    ax[1,0].set_ylabel('Variancia explicada (Acumulada)')\n",
    "\n",
    "\n",
    "    ax[0,1].plot(num_componentes, prcomp.explained_variance_ratio_, 'o-', linewidth=2, color='blue', markersize=2, alpha=.2)\n",
    "    ax[0,1].set_title('Scree Plot - Variância percentual')\n",
    "    ax[0,1].set_xlabel('Número de componentes')\n",
    "    ax[0,1].set_ylabel('Variancia explicada (percentual)')\n",
    "\n",
    "    ax[1,1].plot(num_componentes, prcomp.explained_variance_ratio_.cumsum(), 'o-', linewidth=2, color='blue', markersize=2, alpha=.2)\n",
    "    ax[1,1].set_xlabel('Número de componentes')\n",
    "    ax[1,1].set_ylabel('Variancia explicada (% Acumulado)')\n",
    "    \n",
    "    if ncomp_crit != None:\n",
    "        # Linhas verticais de referência\n",
    "        ax[0,0].axvline(x = ncomp_crit, color = 'r', linestyle = '-', linewidth=.5)\n",
    "        ax[1,1].axvline(x = ncomp_crit, color = 'r', linestyle = '-', linewidth=.5)\n",
    "        ax[1,0].axvline(x = ncomp_crit, color = 'r', linestyle = '-', linewidth=.5)\n",
    "        ax[0,1].axvline(x = ncomp_crit, color = 'r', linestyle = '-', linewidth=.5)\n",
    "\n",
    "\n",
    "        # linhas horizontais\n",
    "        variancia               = prcomp.explained_variance_[ncomp_crit-1]\n",
    "        variancia_acumulada     = prcomp.explained_variance_.cumsum()[ncomp_crit-1]\n",
    "        pct_variancia           = prcomp.explained_variance_ratio_[ncomp_crit-1]\n",
    "        pct_variancia_acumulada = prcomp.explained_variance_ratio_.cumsum()[ncomp_crit-1]\n",
    "        \n",
    "        ax[0,0].axhline(y = variancia              , color = 'r', linestyle = '-', linewidth=.5)\n",
    "        ax[1,0].axhline(y = variancia_acumulada    , color = 'r', linestyle = '-', linewidth=.5)\n",
    "        ax[0,1].axhline(y = pct_variancia          , color = 'r', linestyle = '-', linewidth=.5)\n",
    "        ax[1,1].axhline(y = pct_variancia_acumulada, color = 'r', linestyle = '-', linewidth=.5)\n",
    "\n",
    "\n",
    "    print(f'Número de componentes:............... {ncomp_crit}')\n",
    "    print(f'Variância da ultima CP:.............. {variancia:.2f}' )\n",
    "    print(f'Variância total explicada:........... {variancia_acumulada:.2f}' )\n",
    "    print(f'Variância percentual da última CP:... {100*pct_variancia:.2f}%' )\n",
    "    print(f'Variância percentual total explicada: {100*pct_variancia_acumulada:.2f}%' )\n",
    "    plt.show()\n",
    "    return ncomp_crit"
   ]
  },
  {
   "cell_type": "code",
   "execution_count": 44,
   "metadata": {
    "ExecuteTime": {
     "end_time": "2023-07-20T13:06:58.393905Z",
     "start_time": "2023-07-20T13:06:57.680250Z"
    },
    "scrolled": true
   },
   "outputs": [
    {
     "name": "stdout",
     "output_type": "stream",
     "text": [
      "Número de componentes:............... 63\n",
      "Variância da ultima CP:.............. 0.98\n",
      "Variância total explicada:........... 505.46\n",
      "Variância percentual da última CP:... 0.17%\n",
      "Variância percentual total explicada: 90.10%\n"
     ]
    },
    {
     "data": {
      "image/png": "[encoded data removed]",
      "text/plain": [
       "<Figure size 1400x800 with 4 Axes>"
      ]
     },
     "metadata": {},
     "output_type": "display_data"
    }
   ],
   "source": [
    "ncomp = screeplot(prcomp, varexplicada=.90)"
   ]
  },
  {
   "cell_type": "markdown",
   "metadata": {},
   "source": [
    "## Sem Padronização dos Dados"
   ]
  },
  {
   "cell_type": "code",
   "execution_count": 45,
   "metadata": {
    "ExecuteTime": {
     "end_time": "2023-07-20T13:07:00.510794Z",
     "start_time": "2023-07-20T13:07:00.117552Z"
    }
   },
   "outputs": [],
   "source": [
    "prcomp_2 = PCA().fit(X_train)"
   ]
  },
  {
   "cell_type": "code",
   "execution_count": 46,
   "metadata": {
    "ExecuteTime": {
     "end_time": "2023-07-20T13:07:01.511205Z",
     "start_time": "2023-07-20T13:07:00.901638Z"
    },
    "run_control": {
     "marked": true
    }
   },
   "outputs": [],
   "source": [
    "def screeplot(prcomp_2, ncomp = 0, varexplicada=0, criterio=1):\n",
    "    \n",
    "    if ncomp>0:\n",
    "        ncomp_crit=ncomp\n",
    "    elif varexplicada > 0:\n",
    "        ncomp_crit = (prcomp_2.explained_variance_ratio_.cumsum()<varexplicada).sum()+1 \n",
    "        # Critério 1: autovalor padronizado > 1\n",
    "    elif criterio == 1:\n",
    "        ncomp_crit = (prcomp_2.explained_variance_ratio_>1/princomp.n_components_).sum()\n",
    "    else: ncomp_crit = None\n",
    "    \n",
    "    fig, ax = plt.subplots(2, 2, sharex=True, figsize=(14, 8))\n",
    "    plt.subplots_adjust(hspace=0, wspace=.15)\n",
    "\n",
    "\n",
    "    num_componentes = np.arange(prcomp_2.n_components_) + 1\n",
    "    ax[0,0].plot(num_componentes, prcomp_2.explained_variance_, 'o-', linewidth=2, color='blue', markersize=2, alpha=.2)\n",
    "    ax[0,0].set_title('Scree Plot - Variância total')\n",
    "    ax[0,0].set_xlabel('Número de componentes')\n",
    "    ax[0,0].set_ylabel('Variancia explicada (Autovalores)')\n",
    "\n",
    "    ax[1,0].plot(num_componentes, prcomp_2.explained_variance_.cumsum(), 'o-', linewidth=2, color='blue', markersize=2, alpha=.2)\n",
    "    ax[1,0].set_xlabel('Número de componentes')\n",
    "    ax[1,0].set_ylabel('Variancia explicada (Acumulada)')\n",
    "\n",
    "\n",
    "    ax[0,1].plot(num_componentes, prcomp_2.explained_variance_ratio_, 'o-', linewidth=2, color='blue', markersize=2, alpha=.2)\n",
    "    ax[0,1].set_title('Scree Plot - Variância percentual')\n",
    "    ax[0,1].set_xlabel('Número de componentes')\n",
    "    ax[0,1].set_ylabel('Variancia explicada (percentual)')\n",
    "\n",
    "    ax[1,1].plot(num_componentes, prcomp_2.explained_variance_ratio_.cumsum(), 'o-', linewidth=2, color='blue', markersize=2, alpha=.2)\n",
    "    ax[1,1].set_xlabel('Número de componentes')\n",
    "    ax[1,1].set_ylabel('Variancia explicada (% Acumulado)')\n",
    "    \n",
    "    if ncomp_crit != None:\n",
    "        # Linhas verticais de referência\n",
    "        ax[0,0].axvline(x = ncomp_crit, color = 'r', linestyle = '-', linewidth=.5)\n",
    "        ax[1,1].axvline(x = ncomp_crit, color = 'r', linestyle = '-', linewidth=.5)\n",
    "        ax[1,0].axvline(x = ncomp_crit, color = 'r', linestyle = '-', linewidth=.5)\n",
    "        ax[0,1].axvline(x = ncomp_crit, color = 'r', linestyle = '-', linewidth=.5)\n",
    "\n",
    "\n",
    "        # linhas horizontais\n",
    "        variancia               = prcomp_2.explained_variance_[ncomp_crit-1]\n",
    "        variancia_acumulada     = prcomp_2.explained_variance_.cumsum()[ncomp_crit-1]\n",
    "        pct_variancia           = prcomp_2.explained_variance_ratio_[ncomp_crit-1]\n",
    "        pct_variancia_acumulada = prcomp_2.explained_variance_ratio_.cumsum()[ncomp_crit-1]\n",
    "        \n",
    "        ax[0,0].axhline(y = variancia              , color = 'r', linestyle = '-', linewidth=.5)\n",
    "        ax[1,0].axhline(y = variancia_acumulada    , color = 'r', linestyle = '-', linewidth=.5)\n",
    "        ax[0,1].axhline(y = pct_variancia          , color = 'r', linestyle = '-', linewidth=.5)\n",
    "        ax[1,1].axhline(y = pct_variancia_acumulada, color = 'r', linestyle = '-', linewidth=.5)\n",
    "\n",
    "\n",
    "    print(f'Número de componentes:............... {ncomp_crit}')\n",
    "    print(f'Variância da ultima CP:.............. {variancia:.2f}' )\n",
    "    print(f'Variância total explicada:........... {variancia_acumulada:.2f}' )\n",
    "    print(f'Variância percentual da última CP:... {100*pct_variancia:.2f}%' )\n",
    "    print(f'Variância percentual total explicada: {100*pct_variancia_acumulada:.2f}%' )\n",
    "    plt.show()\n",
    "    return ncomp_crit"
   ]
  },
  {
   "cell_type": "code",
   "execution_count": 47,
   "metadata": {
    "ExecuteTime": {
     "end_time": "2023-07-20T13:07:02.358071Z",
     "start_time": "2023-07-20T13:07:01.515222Z"
    },
    "scrolled": true
   },
   "outputs": [
    {
     "name": "stdout",
     "output_type": "stream",
     "text": [
      "Número de componentes:............... 34\n",
      "Variância da ultima CP:.............. 0.13\n",
      "Variância total explicada:........... 50.16\n",
      "Variância percentual da última CP:... 0.24%\n",
      "Variância percentual total explicada: 90.12%\n"
     ]
    },
    {
     "data": {
      "image/png": "[encoded data removed]",
      "text/plain": [
       "<Figure size 1400x800 with 4 Axes>"
      ]
     },
     "metadata": {},
     "output_type": "display_data"
    }
   ],
   "source": [
    "ncomp = screeplot(prcomp_2, varexplicada=.90)"
   ]
  },
  {
   "cell_type": "markdown",
   "metadata": {},
   "source": [
    "   #### Usando a padronização dos dados, o numero de componentes ficou em 63, sem a padronização caiu para 34. A diferença mais expressiva foi na Variância total explicada, que na padronização ficou em 505.68 e sem padronização ficou em 50.43."
   ]
  },
  {
   "cell_type": "markdown",
   "metadata": {},
   "source": [
    "## Árvore com PCA\n",
    "\n",
    "Faça duas uma árvore de decisão com 10 componentes principais - uma com base em dados padronizados e outra sem padronizar. Utilize o ```ccp_alpha=0.001```.\n",
    "\n",
    "Compare a acurácia na base de treino e teste."
   ]
  },
  {
   "cell_type": "markdown",
   "metadata": {},
   "source": [
    "## Sem Padronização:"
   ]
  },
  {
   "cell_type": "code",
   "execution_count": 48,
   "metadata": {
    "ExecuteTime": {
     "end_time": "2023-07-20T13:07:03.728566Z",
     "start_time": "2023-07-20T13:07:03.315966Z"
    }
   },
   "outputs": [
    {
     "name": "stdout",
     "output_type": "stream",
     "text": [
      "CPU times: total: 2.45 s\n",
      "Wall time: 393 ms\n"
     ]
    },
    {
     "data": {
      "text/plain": [
       "(5514, 561)"
      ]
     },
     "execution_count": 48,
     "metadata": {},
     "output_type": "execute_result"
    }
   ],
   "source": [
    "%%time\n",
    "prcomp = PCA(n_components=561).fit(X_train)\n",
    "\n",
    "pc_treino = prcomp.transform(X_train)\n",
    "pc_teste  = prcomp.transform(X_test)\n",
    "\n",
    "pc_treino.shape"
   ]
  },
  {
   "cell_type": "code",
   "execution_count": 49,
   "metadata": {
    "ExecuteTime": {
     "end_time": "2023-07-20T13:07:04.414016Z",
     "start_time": "2023-07-20T13:07:04.393722Z"
    }
   },
   "outputs": [
    {
     "name": "stdout",
     "output_type": "stream",
     "text": [
      "CPU times: total: 0 ns\n",
      "Wall time: 0 ns\n"
     ]
    },
    {
     "data": {
      "text/html": [
       "<div>\n",
       "<style scoped>\n",
       "    .dataframe tbody tr th:only-of-type {\n",
       "        vertical-align: middle;\n",
       "    }\n",
       "\n",
       "    .dataframe tbody tr th {\n",
       "        vertical-align: top;\n",
       "    }\n",
       "\n",
       "    .dataframe thead th {\n",
       "        text-align: right;\n",
       "    }\n",
       "</style>\n",
       "<table border=\"1\" class=\"dataframe\">\n",
       "  <thead>\n",
       "    <tr style=\"text-align: right;\">\n",
       "      <th></th>\n",
       "      <th>cp1</th>\n",
       "      <th>cp2</th>\n",
       "      <th>cp3</th>\n",
       "      <th>cp4</th>\n",
       "      <th>cp5</th>\n",
       "      <th>cp6</th>\n",
       "      <th>cp7</th>\n",
       "      <th>cp8</th>\n",
       "      <th>cp9</th>\n",
       "      <th>cp10</th>\n",
       "    </tr>\n",
       "  </thead>\n",
       "  <tbody>\n",
       "    <tr>\n",
       "      <th>0</th>\n",
       "      <td>-3.994114</td>\n",
       "      <td>-2.177661</td>\n",
       "      <td>-0.797396</td>\n",
       "      <td>-0.278810</td>\n",
       "      <td>0.000160</td>\n",
       "      <td>0.297743</td>\n",
       "      <td>-0.310882</td>\n",
       "      <td>0.802135</td>\n",
       "      <td>1.216137</td>\n",
       "      <td>-0.071445</td>\n",
       "    </tr>\n",
       "    <tr>\n",
       "      <th>1</th>\n",
       "      <td>-6.607609</td>\n",
       "      <td>2.736537</td>\n",
       "      <td>1.604066</td>\n",
       "      <td>0.290467</td>\n",
       "      <td>0.679331</td>\n",
       "      <td>-0.730848</td>\n",
       "      <td>-0.196083</td>\n",
       "      <td>-1.088270</td>\n",
       "      <td>-0.268575</td>\n",
       "      <td>1.043281</td>\n",
       "    </tr>\n",
       "    <tr>\n",
       "      <th>2</th>\n",
       "      <td>7.368413</td>\n",
       "      <td>0.995270</td>\n",
       "      <td>0.124766</td>\n",
       "      <td>-0.384752</td>\n",
       "      <td>-0.578150</td>\n",
       "      <td>-0.417938</td>\n",
       "      <td>-1.588817</td>\n",
       "      <td>0.731951</td>\n",
       "      <td>0.668689</td>\n",
       "      <td>0.488335</td>\n",
       "    </tr>\n",
       "    <tr>\n",
       "      <th>3</th>\n",
       "      <td>5.663195</td>\n",
       "      <td>-0.629927</td>\n",
       "      <td>0.352371</td>\n",
       "      <td>-0.317825</td>\n",
       "      <td>0.249723</td>\n",
       "      <td>-0.909131</td>\n",
       "      <td>-0.211075</td>\n",
       "      <td>-0.388018</td>\n",
       "      <td>-0.707385</td>\n",
       "      <td>0.004377</td>\n",
       "    </tr>\n",
       "    <tr>\n",
       "      <th>4</th>\n",
       "      <td>5.895197</td>\n",
       "      <td>0.135830</td>\n",
       "      <td>-0.694725</td>\n",
       "      <td>-0.550059</td>\n",
       "      <td>1.056290</td>\n",
       "      <td>0.538556</td>\n",
       "      <td>-0.449472</td>\n",
       "      <td>0.303255</td>\n",
       "      <td>0.190694</td>\n",
       "      <td>0.393133</td>\n",
       "    </tr>\n",
       "  </tbody>\n",
       "</table>\n",
       "</div>"
      ],
      "text/plain": [
       "        cp1       cp2       cp3       cp4       cp5       cp6       cp7  \\\n",
       "0 -3.994114 -2.177661 -0.797396 -0.278810  0.000160  0.297743 -0.310882   \n",
       "1 -6.607609  2.736537  1.604066  0.290467  0.679331 -0.730848 -0.196083   \n",
       "2  7.368413  0.995270  0.124766 -0.384752 -0.578150 -0.417938 -1.588817   \n",
       "3  5.663195 -0.629927  0.352371 -0.317825  0.249723 -0.909131 -0.211075   \n",
       "4  5.895197  0.135830 -0.694725 -0.550059  1.056290  0.538556 -0.449472   \n",
       "\n",
       "        cp8       cp9      cp10  \n",
       "0  0.802135  1.216137 -0.071445  \n",
       "1 -1.088270 -0.268575  1.043281  \n",
       "2  0.731951  0.668689  0.488335  \n",
       "3 -0.388018 -0.707385  0.004377  \n",
       "4  0.303255  0.190694  0.393133  "
      ]
     },
     "execution_count": 49,
     "metadata": {},
     "output_type": "execute_result"
    }
   ],
   "source": [
    "%%time\n",
    "n=10\n",
    "\n",
    "colunas = ['cp'+str(x+1) for x in list(range(n))]\n",
    "\n",
    "pc_train = pd.DataFrame(pc_treino[:,:n], columns = colunas)\n",
    "pc_teste  = pd.DataFrame( pc_teste[:,:n], columns = colunas)\n",
    "\n",
    "pc_teste.head()"
   ]
  },
  {
   "cell_type": "markdown",
   "metadata": {},
   "source": [
    "#### Árvore _ Treino:"
   ]
  },
  {
   "cell_type": "code",
   "execution_count": 59,
   "metadata": {
    "ExecuteTime": {
     "end_time": "2023-07-20T13:46:34.005539Z",
     "start_time": "2023-07-20T13:46:33.819085Z"
    }
   },
   "outputs": [
    {
     "name": "stdout",
     "output_type": "stream",
     "text": [
      "Profundidade: 11\n",
      "Acurácia na base de teste: 0.91\n",
      "MSE na base de teste: 0.12\n"
     ]
    }
   ],
   "source": [
    "arvore_treino = DecisionTreeClassifier(random_state=2360873, ccp_alpha=0.001)\n",
    "arvore_treino.fit(pc_train, y_train)\n",
    "\n",
    "print(f\"Profundidade: {arvore_treino.tree_.max_depth}\")\n",
    "print(f\"Acurácia na base de teste: {arvore_treino.score(pc_train, y_train):.2f}\")\n",
    "print(f\"MSE na base de teste: {mean_squared_error(y_train, arvore_treino.predict(pc_train)):.2f}\")"
   ]
  },
  {
   "cell_type": "code",
   "execution_count": 50,
   "metadata": {
    "ExecuteTime": {
     "end_time": "2023-07-20T13:07:05.880669Z",
     "start_time": "2023-07-20T13:07:05.826481Z"
    }
   },
   "outputs": [
    {
     "data": {
      "text/html": [
       "<style>#sk-container-id-3 {color: black;}#sk-container-id-3 pre{padding: 0;}#sk-container-id-3 div.sk-toggleable {background-color: white;}#sk-container-id-3 label.sk-toggleable__label {cursor: pointer;display: block;width: 100%;margin-bottom: 0;padding: 0.3em;box-sizing: border-box;text-align: center;}#sk-container-id-3 label.sk-toggleable__label-arrow:before {content: \"▸\";float: left;margin-right: 0.25em;color: #696969;}#sk-container-id-3 label.sk-toggleable__label-arrow:hover:before {color: black;}#sk-container-id-3 div.sk-estimator:hover label.sk-toggleable__label-arrow:before {color: black;}#sk-container-id-3 div.sk-toggleable__content {max-height: 0;max-width: 0;overflow: hidden;text-align: left;background-color: #f0f8ff;}#sk-container-id-3 div.sk-toggleable__content pre {margin: 0.2em;color: black;border-radius: 0.25em;background-color: #f0f8ff;}#sk-container-id-3 input.sk-toggleable__control:checked~div.sk-toggleable__content {max-height: 200px;max-width: 100%;overflow: auto;}#sk-container-id-3 input.sk-toggleable__control:checked~label.sk-toggleable__label-arrow:before {content: \"▾\";}#sk-container-id-3 div.sk-estimator input.sk-toggleable__control:checked~label.sk-toggleable__label {background-color: #d4ebff;}#sk-container-id-3 div.sk-label input.sk-toggleable__control:checked~label.sk-toggleable__label {background-color: #d4ebff;}#sk-container-id-3 input.sk-hidden--visually {border: 0;clip: rect(1px 1px 1px 1px);clip: rect(1px, 1px, 1px, 1px);height: 1px;margin: -1px;overflow: hidden;padding: 0;position: absolute;width: 1px;}#sk-container-id-3 div.sk-estimator {font-family: monospace;background-color: #f0f8ff;border: 1px dotted black;border-radius: 0.25em;box-sizing: border-box;margin-bottom: 0.5em;}#sk-container-id-3 div.sk-estimator:hover {background-color: #d4ebff;}#sk-container-id-3 div.sk-parallel-item::after {content: \"\";width: 100%;border-bottom: 1px solid gray;flex-grow: 1;}#sk-container-id-3 div.sk-label:hover label.sk-toggleable__label {background-color: #d4ebff;}#sk-container-id-3 div.sk-serial::before {content: \"\";position: absolute;border-left: 1px solid gray;box-sizing: border-box;top: 0;bottom: 0;left: 50%;z-index: 0;}#sk-container-id-3 div.sk-serial {display: flex;flex-direction: column;align-items: center;background-color: white;padding-right: 0.2em;padding-left: 0.2em;position: relative;}#sk-container-id-3 div.sk-item {position: relative;z-index: 1;}#sk-container-id-3 div.sk-parallel {display: flex;align-items: stretch;justify-content: center;background-color: white;position: relative;}#sk-container-id-3 div.sk-item::before, #sk-container-id-3 div.sk-parallel-item::before {content: \"\";position: absolute;border-left: 1px solid gray;box-sizing: border-box;top: 0;bottom: 0;left: 50%;z-index: -1;}#sk-container-id-3 div.sk-parallel-item {display: flex;flex-direction: column;z-index: 1;position: relative;background-color: white;}#sk-container-id-3 div.sk-parallel-item:first-child::after {align-self: flex-end;width: 50%;}#sk-container-id-3 div.sk-parallel-item:last-child::after {align-self: flex-start;width: 50%;}#sk-container-id-3 div.sk-parallel-item:only-child::after {width: 0;}#sk-container-id-3 div.sk-dashed-wrapped {border: 1px dashed gray;margin: 0 0.4em 0.5em 0.4em;box-sizing: border-box;padding-bottom: 0.4em;background-color: white;}#sk-container-id-3 div.sk-label label {font-family: monospace;font-weight: bold;display: inline-block;line-height: 1.2em;}#sk-container-id-3 div.sk-label-container {text-align: center;}#sk-container-id-3 div.sk-container {/* jupyter's `normalize.less` sets `[hidden] { display: none; }` but bootstrap.min.css set `[hidden] { display: none !important; }` so we also need the `!important` here to be able to override the default hidden behavior on the sphinx rendered scikit-learn.org. See: https://github.com/scikit-learn/scikit-learn/issues/21755 */display: inline-block !important;position: relative;}#sk-container-id-3 div.sk-text-repr-fallback {display: none;}</style><div id=\"sk-container-id-3\" class=\"sk-top-container\"><div class=\"sk-text-repr-fallback\"><pre>DecisionTreeClassifier(ccp_alpha=0.001, random_state=2360873)</pre><b>In a Jupyter environment, please rerun this cell to show the HTML representation or trust the notebook. <br />On GitHub, the HTML representation is unable to render, please try loading this page with nbviewer.org.</b></div><div class=\"sk-container\" hidden><div class=\"sk-item\"><div class=\"sk-estimator sk-toggleable\"><input class=\"sk-toggleable__control sk-hidden--visually\" id=\"sk-estimator-id-3\" type=\"checkbox\" checked><label for=\"sk-estimator-id-3\" class=\"sk-toggleable__label sk-toggleable__label-arrow\">DecisionTreeClassifier</label><div class=\"sk-toggleable__content\"><pre>DecisionTreeClassifier(ccp_alpha=0.001, random_state=2360873)</pre></div></div></div></div></div>"
      ],
      "text/plain": [
       "DecisionTreeClassifier(ccp_alpha=0.001, random_state=2360873)"
      ]
     },
     "execution_count": 50,
     "metadata": {},
     "output_type": "execute_result"
    }
   ],
   "source": [
    "arvore_01_test = DecisionTreeClassifier(random_state=2360873, ccp_alpha=0.001)\n",
    "arvore_01_test.fit(pc_teste, y_test)"
   ]
  },
  {
   "cell_type": "code",
   "execution_count": 51,
   "metadata": {
    "ExecuteTime": {
     "end_time": "2023-07-20T13:07:07.034195Z",
     "start_time": "2023-07-20T13:07:07.003018Z"
    }
   },
   "outputs": [
    {
     "name": "stdout",
     "output_type": "stream",
     "text": [
      "Profundidade: 13\n",
      "Acurácia na base de teste: 0.96\n",
      "MSE na base de teste: 0.07\n"
     ]
    }
   ],
   "source": [
    "print(f\"Profundidade: {arvore_01_test.tree_.max_depth}\")\n",
    "print(f\"Acurácia na base de teste: {arvore_01_test.score(pc_teste, y_test):.2f}\")\n",
    "print(f\"MSE na base de teste: {mean_squared_error(y_test, arvore_01_test.predict(pc_teste)):.2f}\")"
   ]
  },
  {
   "cell_type": "markdown",
   "metadata": {},
   "source": [
    "#### A árvore de teste apresentou uma melhor acurácia em relação ao treino, sem padronização."
   ]
  },
  {
   "cell_type": "markdown",
   "metadata": {},
   "source": [
    "## Com Padronização:"
   ]
  },
  {
   "cell_type": "code",
   "execution_count": 52,
   "metadata": {
    "ExecuteTime": {
     "end_time": "2023-07-20T13:39:47.325946Z",
     "start_time": "2023-07-20T13:39:46.952620Z"
    }
   },
   "outputs": [
    {
     "name": "stdout",
     "output_type": "stream",
     "text": [
      "CPU times: total: 203 ms\n",
      "Wall time: 334 ms\n"
     ]
    },
    {
     "data": {
      "text/html": [
       "<div>\n",
       "<style scoped>\n",
       "    .dataframe tbody tr th:only-of-type {\n",
       "        vertical-align: middle;\n",
       "    }\n",
       "\n",
       "    .dataframe tbody tr th {\n",
       "        vertical-align: top;\n",
       "    }\n",
       "\n",
       "    .dataframe thead th {\n",
       "        text-align: right;\n",
       "    }\n",
       "</style>\n",
       "<table border=\"1\" class=\"dataframe\">\n",
       "  <thead>\n",
       "    <tr style=\"text-align: right;\">\n",
       "      <th></th>\n",
       "      <th>1 tBodyAcc-mean()-X</th>\n",
       "      <th>2 tBodyAcc-mean()-Y</th>\n",
       "      <th>3 tBodyAcc-mean()-Z</th>\n",
       "      <th>4 tBodyAcc-std()-X</th>\n",
       "      <th>5 tBodyAcc-std()-Y</th>\n",
       "      <th>6 tBodyAcc-std()-Z</th>\n",
       "      <th>7 tBodyAcc-mad()-X</th>\n",
       "      <th>8 tBodyAcc-mad()-Y</th>\n",
       "      <th>9 tBodyAcc-mad()-Z</th>\n",
       "      <th>10 tBodyAcc-max()-X</th>\n",
       "      <th>...</th>\n",
       "      <th>552 fBodyBodyGyroJerkMag-meanFreq()</th>\n",
       "      <th>553 fBodyBodyGyroJerkMag-skewness()</th>\n",
       "      <th>554 fBodyBodyGyroJerkMag-kurtosis()</th>\n",
       "      <th>555 angle(tBodyAccMean,gravity)</th>\n",
       "      <th>556 angle(tBodyAccJerkMean),gravityMean)</th>\n",
       "      <th>557 angle(tBodyGyroMean,gravityMean)</th>\n",
       "      <th>558 angle(tBodyGyroJerkMean,gravityMean)</th>\n",
       "      <th>559 angle(X,gravityMean)</th>\n",
       "      <th>560 angle(Y,gravityMean)</th>\n",
       "      <th>561 angle(Z,gravityMean)</th>\n",
       "    </tr>\n",
       "  </thead>\n",
       "  <tbody>\n",
       "    <tr>\n",
       "      <th>7013</th>\n",
       "      <td>-0.112558</td>\n",
       "      <td>-1.118426</td>\n",
       "      <td>0.477377</td>\n",
       "      <td>-0.811236</td>\n",
       "      <td>-0.699112</td>\n",
       "      <td>-0.772166</td>\n",
       "      <td>-0.808712</td>\n",
       "      <td>-0.693147</td>\n",
       "      <td>-0.772416</td>\n",
       "      <td>-0.820587</td>\n",
       "      <td>...</td>\n",
       "      <td>-2.501794</td>\n",
       "      <td>-0.308278</td>\n",
       "      <td>-0.471126</td>\n",
       "      <td>0.042784</td>\n",
       "      <td>-0.922143</td>\n",
       "      <td>0.336904</td>\n",
       "      <td>-1.510685</td>\n",
       "      <td>-0.567390</td>\n",
       "      <td>0.166411</td>\n",
       "      <td>-0.334126</td>\n",
       "    </tr>\n",
       "    <tr>\n",
       "      <th>63</th>\n",
       "      <td>0.080296</td>\n",
       "      <td>0.022449</td>\n",
       "      <td>0.022143</td>\n",
       "      <td>-0.845881</td>\n",
       "      <td>-0.939176</td>\n",
       "      <td>-0.899780</td>\n",
       "      <td>-0.837273</td>\n",
       "      <td>-0.939711</td>\n",
       "      <td>-0.904074</td>\n",
       "      <td>-0.841043</td>\n",
       "      <td>...</td>\n",
       "      <td>2.308795</td>\n",
       "      <td>-1.105288</td>\n",
       "      <td>-0.844380</td>\n",
       "      <td>0.515302</td>\n",
       "      <td>0.703227</td>\n",
       "      <td>1.076460</td>\n",
       "      <td>0.729071</td>\n",
       "      <td>1.765454</td>\n",
       "      <td>-2.020321</td>\n",
       "      <td>-1.392827</td>\n",
       "    </tr>\n",
       "    <tr>\n",
       "      <th>3742</th>\n",
       "      <td>0.816634</td>\n",
       "      <td>0.685853</td>\n",
       "      <td>-0.441008</td>\n",
       "      <td>1.419576</td>\n",
       "      <td>1.026976</td>\n",
       "      <td>0.456176</td>\n",
       "      <td>1.339412</td>\n",
       "      <td>1.195539</td>\n",
       "      <td>0.486695</td>\n",
       "      <td>1.816832</td>\n",
       "      <td>...</td>\n",
       "      <td>0.445250</td>\n",
       "      <td>-0.088206</td>\n",
       "      <td>-0.102822</td>\n",
       "      <td>-0.845008</td>\n",
       "      <td>0.073169</td>\n",
       "      <td>1.360576</td>\n",
       "      <td>1.205941</td>\n",
       "      <td>-0.551458</td>\n",
       "      <td>0.649343</td>\n",
       "      <td>0.331929</td>\n",
       "    </tr>\n",
       "    <tr>\n",
       "      <th>6607</th>\n",
       "      <td>2.070710</td>\n",
       "      <td>0.934290</td>\n",
       "      <td>-0.466173</td>\n",
       "      <td>1.010939</td>\n",
       "      <td>1.002566</td>\n",
       "      <td>0.848108</td>\n",
       "      <td>1.000083</td>\n",
       "      <td>0.943547</td>\n",
       "      <td>0.653356</td>\n",
       "      <td>1.000010</td>\n",
       "      <td>...</td>\n",
       "      <td>0.504321</td>\n",
       "      <td>0.201496</td>\n",
       "      <td>0.267128</td>\n",
       "      <td>-1.334461</td>\n",
       "      <td>-0.948810</td>\n",
       "      <td>-0.705242</td>\n",
       "      <td>0.411363</td>\n",
       "      <td>-0.072235</td>\n",
       "      <td>0.927596</td>\n",
       "      <td>1.025647</td>\n",
       "    </tr>\n",
       "    <tr>\n",
       "      <th>120</th>\n",
       "      <td>0.221078</td>\n",
       "      <td>0.873297</td>\n",
       "      <td>-0.121449</td>\n",
       "      <td>0.558904</td>\n",
       "      <td>0.863190</td>\n",
       "      <td>0.828468</td>\n",
       "      <td>0.514507</td>\n",
       "      <td>0.731932</td>\n",
       "      <td>0.805805</td>\n",
       "      <td>0.543934</td>\n",
       "      <td>...</td>\n",
       "      <td>-0.210580</td>\n",
       "      <td>0.425460</td>\n",
       "      <td>0.295377</td>\n",
       "      <td>0.169500</td>\n",
       "      <td>-1.100760</td>\n",
       "      <td>0.996304</td>\n",
       "      <td>0.748181</td>\n",
       "      <td>-0.549552</td>\n",
       "      <td>0.657647</td>\n",
       "      <td>0.281037</td>\n",
       "    </tr>\n",
       "  </tbody>\n",
       "</table>\n",
       "<p>5 rows × 561 columns</p>\n",
       "</div>"
      ],
      "text/plain": [
       "      1 tBodyAcc-mean()-X  2 tBodyAcc-mean()-Y  3 tBodyAcc-mean()-Z  \\\n",
       "7013            -0.112558            -1.118426             0.477377   \n",
       "63               0.080296             0.022449             0.022143   \n",
       "3742             0.816634             0.685853            -0.441008   \n",
       "6607             2.070710             0.934290            -0.466173   \n",
       "120              0.221078             0.873297            -0.121449   \n",
       "\n",
       "      4 tBodyAcc-std()-X  5 tBodyAcc-std()-Y  6 tBodyAcc-std()-Z  \\\n",
       "7013           -0.811236           -0.699112           -0.772166   \n",
       "63             -0.845881           -0.939176           -0.899780   \n",
       "3742            1.419576            1.026976            0.456176   \n",
       "6607            1.010939            1.002566            0.848108   \n",
       "120             0.558904            0.863190            0.828468   \n",
       "\n",
       "      7 tBodyAcc-mad()-X  8 tBodyAcc-mad()-Y  9 tBodyAcc-mad()-Z  \\\n",
       "7013           -0.808712           -0.693147           -0.772416   \n",
       "63             -0.837273           -0.939711           -0.904074   \n",
       "3742            1.339412            1.195539            0.486695   \n",
       "6607            1.000083            0.943547            0.653356   \n",
       "120             0.514507            0.731932            0.805805   \n",
       "\n",
       "      10 tBodyAcc-max()-X  ...  552 fBodyBodyGyroJerkMag-meanFreq()  \\\n",
       "7013            -0.820587  ...                            -2.501794   \n",
       "63              -0.841043  ...                             2.308795   \n",
       "3742             1.816832  ...                             0.445250   \n",
       "6607             1.000010  ...                             0.504321   \n",
       "120              0.543934  ...                            -0.210580   \n",
       "\n",
       "      553 fBodyBodyGyroJerkMag-skewness()  \\\n",
       "7013                            -0.308278   \n",
       "63                              -1.105288   \n",
       "3742                            -0.088206   \n",
       "6607                             0.201496   \n",
       "120                              0.425460   \n",
       "\n",
       "      554 fBodyBodyGyroJerkMag-kurtosis()  555 angle(tBodyAccMean,gravity)  \\\n",
       "7013                            -0.471126                         0.042784   \n",
       "63                              -0.844380                         0.515302   \n",
       "3742                            -0.102822                        -0.845008   \n",
       "6607                             0.267128                        -1.334461   \n",
       "120                              0.295377                         0.169500   \n",
       "\n",
       "      556 angle(tBodyAccJerkMean),gravityMean)  \\\n",
       "7013                                 -0.922143   \n",
       "63                                    0.703227   \n",
       "3742                                  0.073169   \n",
       "6607                                 -0.948810   \n",
       "120                                  -1.100760   \n",
       "\n",
       "      557 angle(tBodyGyroMean,gravityMean)  \\\n",
       "7013                              0.336904   \n",
       "63                                1.076460   \n",
       "3742                              1.360576   \n",
       "6607                             -0.705242   \n",
       "120                               0.996304   \n",
       "\n",
       "      558 angle(tBodyGyroJerkMean,gravityMean)  559 angle(X,gravityMean)  \\\n",
       "7013                                 -1.510685                 -0.567390   \n",
       "63                                    0.729071                  1.765454   \n",
       "3742                                  1.205941                 -0.551458   \n",
       "6607                                  0.411363                 -0.072235   \n",
       "120                                   0.748181                 -0.549552   \n",
       "\n",
       "      560 angle(Y,gravityMean)  561 angle(Z,gravityMean)  \n",
       "7013                  0.166411                 -0.334126  \n",
       "63                   -2.020321                 -1.392827  \n",
       "3742                  0.649343                  0.331929  \n",
       "6607                  0.927596                  1.025647  \n",
       "120                   0.657647                  0.281037  \n",
       "\n",
       "[5 rows x 561 columns]"
      ]
     },
     "execution_count": 52,
     "metadata": {},
     "output_type": "execute_result"
    }
   ],
   "source": [
    "%%time\n",
    "\n",
    "def padroniza(s):\n",
    "    if s.std() > 0:\n",
    "        s = (s - s.mean())/s.std()\n",
    "    return s\n",
    "\n",
    "X_test_pad = pd.DataFrame(X_test).apply(padroniza, axis=0)\n",
    "X_test_pad.head()"
   ]
  },
  {
   "cell_type": "code",
   "execution_count": 53,
   "metadata": {
    "ExecuteTime": {
     "end_time": "2023-07-20T13:40:51.653552Z",
     "start_time": "2023-07-20T13:40:51.162108Z"
    }
   },
   "outputs": [
    {
     "name": "stdout",
     "output_type": "stream",
     "text": [
      "CPU times: total: 2.36 s\n",
      "Wall time: 472 ms\n"
     ]
    },
    {
     "data": {
      "text/plain": [
       "(5514, 561)"
      ]
     },
     "execution_count": 53,
     "metadata": {},
     "output_type": "execute_result"
    }
   ],
   "source": [
    "%%time\n",
    "prcomp = PCA(n_components=561).fit(X_train_pad)\n",
    "\n",
    "pc_treino_pad = prcomp.transform(X_train_pad)\n",
    "pc_teste_pad  = prcomp.transform(X_test_pad)\n",
    "\n",
    "pc_treino.shape"
   ]
  },
  {
   "cell_type": "code",
   "execution_count": 54,
   "metadata": {
    "ExecuteTime": {
     "end_time": "2023-07-20T13:42:05.739713Z",
     "start_time": "2023-07-20T13:42:05.721726Z"
    }
   },
   "outputs": [
    {
     "name": "stdout",
     "output_type": "stream",
     "text": [
      "CPU times: total: 0 ns\n",
      "Wall time: 724 µs\n"
     ]
    },
    {
     "data": {
      "text/html": [
       "<div>\n",
       "<style scoped>\n",
       "    .dataframe tbody tr th:only-of-type {\n",
       "        vertical-align: middle;\n",
       "    }\n",
       "\n",
       "    .dataframe tbody tr th {\n",
       "        vertical-align: top;\n",
       "    }\n",
       "\n",
       "    .dataframe thead th {\n",
       "        text-align: right;\n",
       "    }\n",
       "</style>\n",
       "<table border=\"1\" class=\"dataframe\">\n",
       "  <thead>\n",
       "    <tr style=\"text-align: right;\">\n",
       "      <th></th>\n",
       "      <th>cp1</th>\n",
       "      <th>cp2</th>\n",
       "      <th>cp3</th>\n",
       "      <th>cp4</th>\n",
       "      <th>cp5</th>\n",
       "      <th>cp6</th>\n",
       "      <th>cp7</th>\n",
       "      <th>cp8</th>\n",
       "      <th>cp9</th>\n",
       "      <th>cp10</th>\n",
       "    </tr>\n",
       "  </thead>\n",
       "  <tbody>\n",
       "    <tr>\n",
       "      <th>0</th>\n",
       "      <td>-11.229366</td>\n",
       "      <td>-6.513570</td>\n",
       "      <td>-0.181473</td>\n",
       "      <td>2.467308</td>\n",
       "      <td>3.441215</td>\n",
       "      <td>2.347348</td>\n",
       "      <td>1.312804</td>\n",
       "      <td>2.040944</td>\n",
       "      <td>2.326629</td>\n",
       "      <td>0.204261</td>\n",
       "    </tr>\n",
       "    <tr>\n",
       "      <th>1</th>\n",
       "      <td>-16.586490</td>\n",
       "      <td>8.623682</td>\n",
       "      <td>0.828937</td>\n",
       "      <td>-1.949947</td>\n",
       "      <td>-3.861883</td>\n",
       "      <td>-3.237684</td>\n",
       "      <td>0.189115</td>\n",
       "      <td>0.604347</td>\n",
       "      <td>-0.329875</td>\n",
       "      <td>0.718815</td>\n",
       "    </tr>\n",
       "    <tr>\n",
       "      <th>2</th>\n",
       "      <td>21.840691</td>\n",
       "      <td>1.529620</td>\n",
       "      <td>-4.606830</td>\n",
       "      <td>-4.319810</td>\n",
       "      <td>1.998686</td>\n",
       "      <td>-2.307676</td>\n",
       "      <td>3.054370</td>\n",
       "      <td>1.843027</td>\n",
       "      <td>-1.001966</td>\n",
       "      <td>-1.910613</td>\n",
       "    </tr>\n",
       "    <tr>\n",
       "      <th>3</th>\n",
       "      <td>14.206386</td>\n",
       "      <td>-3.622331</td>\n",
       "      <td>-2.188753</td>\n",
       "      <td>-1.247615</td>\n",
       "      <td>-1.465160</td>\n",
       "      <td>-3.464126</td>\n",
       "      <td>-1.341827</td>\n",
       "      <td>-2.190075</td>\n",
       "      <td>1.324674</td>\n",
       "      <td>-1.491858</td>\n",
       "    </tr>\n",
       "    <tr>\n",
       "      <th>4</th>\n",
       "      <td>15.863678</td>\n",
       "      <td>-0.875476</td>\n",
       "      <td>-3.681849</td>\n",
       "      <td>3.206327</td>\n",
       "      <td>-2.793647</td>\n",
       "      <td>0.844120</td>\n",
       "      <td>1.160201</td>\n",
       "      <td>-0.529970</td>\n",
       "      <td>0.015199</td>\n",
       "      <td>1.791211</td>\n",
       "    </tr>\n",
       "  </tbody>\n",
       "</table>\n",
       "</div>"
      ],
      "text/plain": [
       "         cp1       cp2       cp3       cp4       cp5       cp6       cp7  \\\n",
       "0 -11.229366 -6.513570 -0.181473  2.467308  3.441215  2.347348  1.312804   \n",
       "1 -16.586490  8.623682  0.828937 -1.949947 -3.861883 -3.237684  0.189115   \n",
       "2  21.840691  1.529620 -4.606830 -4.319810  1.998686 -2.307676  3.054370   \n",
       "3  14.206386 -3.622331 -2.188753 -1.247615 -1.465160 -3.464126 -1.341827   \n",
       "4  15.863678 -0.875476 -3.681849  3.206327 -2.793647  0.844120  1.160201   \n",
       "\n",
       "        cp8       cp9      cp10  \n",
       "0  2.040944  2.326629  0.204261  \n",
       "1  0.604347 -0.329875  0.718815  \n",
       "2  1.843027 -1.001966 -1.910613  \n",
       "3 -2.190075  1.324674 -1.491858  \n",
       "4 -0.529970  0.015199  1.791211  "
      ]
     },
     "execution_count": 54,
     "metadata": {},
     "output_type": "execute_result"
    }
   ],
   "source": [
    "%%time\n",
    "n=10\n",
    "\n",
    "colunas = ['cp'+str(x+1) for x in list(range(n))]\n",
    "\n",
    "pc_train_pad = pd.DataFrame(pc_treino_pad[:,:n], columns = colunas)\n",
    "pc_teste_pad  = pd.DataFrame( pc_teste_pad[:,:n], columns = colunas)\n",
    "\n",
    "pc_teste_pad.head()"
   ]
  },
  {
   "cell_type": "markdown",
   "metadata": {},
   "source": [
    "#### Árvore _ Teste:"
   ]
  },
  {
   "cell_type": "code",
   "execution_count": 55,
   "metadata": {
    "ExecuteTime": {
     "end_time": "2023-07-20T13:42:44.870709Z",
     "start_time": "2023-07-20T13:42:44.804584Z"
    }
   },
   "outputs": [
    {
     "data": {
      "text/html": [
       "<style>#sk-container-id-4 {color: black;}#sk-container-id-4 pre{padding: 0;}#sk-container-id-4 div.sk-toggleable {background-color: white;}#sk-container-id-4 label.sk-toggleable__label {cursor: pointer;display: block;width: 100%;margin-bottom: 0;padding: 0.3em;box-sizing: border-box;text-align: center;}#sk-container-id-4 label.sk-toggleable__label-arrow:before {content: \"▸\";float: left;margin-right: 0.25em;color: #696969;}#sk-container-id-4 label.sk-toggleable__label-arrow:hover:before {color: black;}#sk-container-id-4 div.sk-estimator:hover label.sk-toggleable__label-arrow:before {color: black;}#sk-container-id-4 div.sk-toggleable__content {max-height: 0;max-width: 0;overflow: hidden;text-align: left;background-color: #f0f8ff;}#sk-container-id-4 div.sk-toggleable__content pre {margin: 0.2em;color: black;border-radius: 0.25em;background-color: #f0f8ff;}#sk-container-id-4 input.sk-toggleable__control:checked~div.sk-toggleable__content {max-height: 200px;max-width: 100%;overflow: auto;}#sk-container-id-4 input.sk-toggleable__control:checked~label.sk-toggleable__label-arrow:before {content: \"▾\";}#sk-container-id-4 div.sk-estimator input.sk-toggleable__control:checked~label.sk-toggleable__label {background-color: #d4ebff;}#sk-container-id-4 div.sk-label input.sk-toggleable__control:checked~label.sk-toggleable__label {background-color: #d4ebff;}#sk-container-id-4 input.sk-hidden--visually {border: 0;clip: rect(1px 1px 1px 1px);clip: rect(1px, 1px, 1px, 1px);height: 1px;margin: -1px;overflow: hidden;padding: 0;position: absolute;width: 1px;}#sk-container-id-4 div.sk-estimator {font-family: monospace;background-color: #f0f8ff;border: 1px dotted black;border-radius: 0.25em;box-sizing: border-box;margin-bottom: 0.5em;}#sk-container-id-4 div.sk-estimator:hover {background-color: #d4ebff;}#sk-container-id-4 div.sk-parallel-item::after {content: \"\";width: 100%;border-bottom: 1px solid gray;flex-grow: 1;}#sk-container-id-4 div.sk-label:hover label.sk-toggleable__label {background-color: #d4ebff;}#sk-container-id-4 div.sk-serial::before {content: \"\";position: absolute;border-left: 1px solid gray;box-sizing: border-box;top: 0;bottom: 0;left: 50%;z-index: 0;}#sk-container-id-4 div.sk-serial {display: flex;flex-direction: column;align-items: center;background-color: white;padding-right: 0.2em;padding-left: 0.2em;position: relative;}#sk-container-id-4 div.sk-item {position: relative;z-index: 1;}#sk-container-id-4 div.sk-parallel {display: flex;align-items: stretch;justify-content: center;background-color: white;position: relative;}#sk-container-id-4 div.sk-item::before, #sk-container-id-4 div.sk-parallel-item::before {content: \"\";position: absolute;border-left: 1px solid gray;box-sizing: border-box;top: 0;bottom: 0;left: 50%;z-index: -1;}#sk-container-id-4 div.sk-parallel-item {display: flex;flex-direction: column;z-index: 1;position: relative;background-color: white;}#sk-container-id-4 div.sk-parallel-item:first-child::after {align-self: flex-end;width: 50%;}#sk-container-id-4 div.sk-parallel-item:last-child::after {align-self: flex-start;width: 50%;}#sk-container-id-4 div.sk-parallel-item:only-child::after {width: 0;}#sk-container-id-4 div.sk-dashed-wrapped {border: 1px dashed gray;margin: 0 0.4em 0.5em 0.4em;box-sizing: border-box;padding-bottom: 0.4em;background-color: white;}#sk-container-id-4 div.sk-label label {font-family: monospace;font-weight: bold;display: inline-block;line-height: 1.2em;}#sk-container-id-4 div.sk-label-container {text-align: center;}#sk-container-id-4 div.sk-container {/* jupyter's `normalize.less` sets `[hidden] { display: none; }` but bootstrap.min.css set `[hidden] { display: none !important; }` so we also need the `!important` here to be able to override the default hidden behavior on the sphinx rendered scikit-learn.org. See: https://github.com/scikit-learn/scikit-learn/issues/21755 */display: inline-block !important;position: relative;}#sk-container-id-4 div.sk-text-repr-fallback {display: none;}</style><div id=\"sk-container-id-4\" class=\"sk-top-container\"><div class=\"sk-text-repr-fallback\"><pre>DecisionTreeClassifier(ccp_alpha=0.001, random_state=2360873)</pre><b>In a Jupyter environment, please rerun this cell to show the HTML representation or trust the notebook. <br />On GitHub, the HTML representation is unable to render, please try loading this page with nbviewer.org.</b></div><div class=\"sk-container\" hidden><div class=\"sk-item\"><div class=\"sk-estimator sk-toggleable\"><input class=\"sk-toggleable__control sk-hidden--visually\" id=\"sk-estimator-id-4\" type=\"checkbox\" checked><label for=\"sk-estimator-id-4\" class=\"sk-toggleable__label sk-toggleable__label-arrow\">DecisionTreeClassifier</label><div class=\"sk-toggleable__content\"><pre>DecisionTreeClassifier(ccp_alpha=0.001, random_state=2360873)</pre></div></div></div></div></div>"
      ],
      "text/plain": [
       "DecisionTreeClassifier(ccp_alpha=0.001, random_state=2360873)"
      ]
     },
     "execution_count": 55,
     "metadata": {},
     "output_type": "execute_result"
    }
   ],
   "source": [
    "arvore_test_pad = DecisionTreeClassifier(random_state=2360873, ccp_alpha=0.001)\n",
    "arvore_test_pad.fit(pc_teste_pad, y_test)"
   ]
  },
  {
   "cell_type": "code",
   "execution_count": 56,
   "metadata": {
    "ExecuteTime": {
     "end_time": "2023-07-20T13:43:08.826086Z",
     "start_time": "2023-07-20T13:43:08.797414Z"
    }
   },
   "outputs": [
    {
     "name": "stdout",
     "output_type": "stream",
     "text": [
      "Profundidade: 13\n",
      "Acurácia na base de teste: 0.96\n",
      "MSE na base de teste: 0.07\n"
     ]
    }
   ],
   "source": [
    "print(f\"Profundidade: {arvore_test_pad.tree_.max_depth}\")\n",
    "print(f\"Acurácia na base de teste: {arvore_test_pad.score(pc_teste_pad, y_test):.2f}\")\n",
    "print(f\"MSE na base de teste: {mean_squared_error(y_test, arvore_test_pad.predict(pc_teste_pad)):.2f}\")"
   ]
  },
  {
   "cell_type": "markdown",
   "metadata": {},
   "source": [
    "#### Árvore _ Treino:"
   ]
  },
  {
   "cell_type": "code",
   "execution_count": 58,
   "metadata": {
    "ExecuteTime": {
     "end_time": "2023-07-20T13:44:58.462915Z",
     "start_time": "2023-07-20T13:44:58.306781Z"
    }
   },
   "outputs": [
    {
     "name": "stdout",
     "output_type": "stream",
     "text": [
      "Profundidade: 10\n",
      "Acurácia na base de teste: 0.89\n",
      "MSE na base de teste: 0.18\n"
     ]
    }
   ],
   "source": [
    "arvore_treino_pad = DecisionTreeClassifier(random_state=2360873, ccp_alpha=0.001)\n",
    "arvore_treino_pad.fit(pc_train_pad, y_train)\n",
    "\n",
    "print(f\"Profundidade: {arvore_treino_pad.tree_.max_depth}\")\n",
    "print(f\"Acurácia na base de teste: {arvore_treino_pad.score(pc_train_pad, y_train):.2f}\")\n",
    "print(f\"MSE na base de teste: {mean_squared_error(y_train, arvore_treino_pad.predict(pc_train_pad)):.2f}\")"
   ]
  },
  {
   "cell_type": "markdown",
   "metadata": {},
   "source": [
    "##### A árvore de teste apresentou uma acurácia melhor que a de treino, com padronização."
   ]
  },
  {
   "cell_type": "markdown",
   "metadata": {},
   "source": [
    "#### No geral, as árvores de teste apresentaram a mesma acurácia com e sem padronização."
   ]
  }
 ],
 "metadata": {
  "kernelspec": {
   "display_name": "Python 3 (ipykernel)",
   "language": "python",
   "name": "python3"
  },
  "language_info": {
   "codemirror_mode": {
    "name": "ipython",
    "version": 3
   },
   "file_extension": ".py",
   "mimetype": "text/x-python",
   "name": "python",
   "nbconvert_exporter": "python",
   "pygments_lexer": "ipython3",
   "version": "3.9.16"
  },
  "toc": {
   "base_numbering": 1,
   "nav_menu": {},
   "number_sections": true,
   "sideBar": true,
   "skip_h1_title": true,
   "title_cell": "Índice",
   "title_sidebar": "Conteúdo",
   "toc_cell": false,
   "toc_position": {},
   "toc_section_display": true,
   "toc_window_display": false
  },
  "varInspector": {
   "cols": {
    "lenName": 16,
    "lenType": 16,
    "lenVar": 40
   },
   "kernels_config": {
    "python": {
     "delete_cmd_postfix": "",
     "delete_cmd_prefix": "del ",
     "library": "var_list.py",
     "varRefreshCmd": "print(var_dic_list())"
    },
    "r": {
     "delete_cmd_postfix": ") ",
     "delete_cmd_prefix": "rm(",
     "library": "var_list.r",
     "varRefreshCmd": "cat(var_dic_list()) "
    }
   },
   "types_to_exclude": [
    "module",
    "function",
    "builtin_function_or_method",
    "instance",
    "_Feature"
   ],
   "window_display": false
  }
 },
 "nbformat": 4,
 "nbformat_minor": 4
}
