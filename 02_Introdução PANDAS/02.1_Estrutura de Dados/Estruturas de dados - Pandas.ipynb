{
 "cells": [
  {
   "cell_type": "markdown",
   "metadata": {},
   "source": [
    "# Tarefa 01\n",
    "\n",
    "- Leia os enunciados com atenção\n",
    "- Saiba que pode haver mais de uma resposta correta\n",
    "- Insira novas células de código sempre que achar necessário\n",
    "- Em caso de dúvidas, procure os tutores\n",
    "- Divirta-se :)\n",
    "\n",
    "#### 1)  crie uma série do pandas a partir de uma lista com os dados abaixo:\n",
    "\n",
    "Em um estudo sobre alteração na tempreatura global, A NASA disponibiliza dados de diferenças de de temperatura média da superfície terrestre relativos às médias de temperatura entre 1951 e 1980. Os dados originais podem ser vistos no site da NASA/GISS, e estão dispostos a cada década na tabela abaixo.\n",
    "\n",
    "|ano|anomalia termica|\n",
    "|:-:|:----:|\n",
    "| 1900 | -0.08 |\n",
    "| 1920 | -0.27 |\n",
    "| 1940 | 0.12 |\n",
    "| 1960 | -0.03 |\n",
    "| 1980 | 0.26 |\n",
    "| 2000 | 0.40 |\n",
    "| 2020 | 1.02 |\n",
    "\n",
    "Crie uma séries do Pandas a partir de uma lista com esses dados."
   ]
  },
  {
   "cell_type": "code",
   "execution_count": 49,
   "metadata": {},
   "outputs": [
    {
     "data": {
      "text/plain": [
       "1900   -0.08\n",
       "1920   -0.27\n",
       "1940    0.12\n",
       "1960   -0.03\n",
       "1980    0.26\n",
       "2000    0.40\n",
       "2020    1.02\n",
       "dtype: float64"
      ]
     },
     "execution_count": 49,
     "metadata": {},
     "output_type": "execute_result"
    }
   ],
   "source": [
    "import pandas as pd\n",
    "import numpy as np\n",
    "\n",
    "# Seu código aqui\n",
    "variacaotermica = pd.Series([-0.08,-0.27,0.12,-0.03,0.26,0.40,1.02],\n",
    "                           index=[1900,1920,1940,1960,1980,2000,2020])\n",
    "variacaotermica\n"
   ]
  },
  {
   "cell_type": "code",
   "execution_count": 50,
   "metadata": {},
   "outputs": [
    {
     "data": {
      "text/html": [
       "<div>\n",
       "<style scoped>\n",
       "    .dataframe tbody tr th:only-of-type {\n",
       "        vertical-align: middle;\n",
       "    }\n",
       "\n",
       "    .dataframe tbody tr th {\n",
       "        vertical-align: top;\n",
       "    }\n",
       "\n",
       "    .dataframe thead th {\n",
       "        text-align: right;\n",
       "    }\n",
       "</style>\n",
       "<table border=\"1\" class=\"dataframe\">\n",
       "  <thead>\n",
       "    <tr style=\"text-align: right;\">\n",
       "      <th></th>\n",
       "      <th>ano</th>\n",
       "      <th>anomalia termica</th>\n",
       "    </tr>\n",
       "  </thead>\n",
       "  <tbody>\n",
       "    <tr>\n",
       "      <th>0</th>\n",
       "      <td>1900</td>\n",
       "      <td>-0.08</td>\n",
       "    </tr>\n",
       "    <tr>\n",
       "      <th>1</th>\n",
       "      <td>1920</td>\n",
       "      <td>-0.27</td>\n",
       "    </tr>\n",
       "    <tr>\n",
       "      <th>2</th>\n",
       "      <td>1940</td>\n",
       "      <td>0.12</td>\n",
       "    </tr>\n",
       "    <tr>\n",
       "      <th>3</th>\n",
       "      <td>1960</td>\n",
       "      <td>-0.03</td>\n",
       "    </tr>\n",
       "    <tr>\n",
       "      <th>4</th>\n",
       "      <td>1980</td>\n",
       "      <td>0.26</td>\n",
       "    </tr>\n",
       "    <tr>\n",
       "      <th>5</th>\n",
       "      <td>2000</td>\n",
       "      <td>0.40</td>\n",
       "    </tr>\n",
       "    <tr>\n",
       "      <th>6</th>\n",
       "      <td>2020</td>\n",
       "      <td>1.02</td>\n",
       "    </tr>\n",
       "  </tbody>\n",
       "</table>\n",
       "</div>"
      ],
      "text/plain": [
       "    ano  anomalia termica\n",
       "0  1900             -0.08\n",
       "1  1920             -0.27\n",
       "2  1940              0.12\n",
       "3  1960             -0.03\n",
       "4  1980              0.26\n",
       "5  2000              0.40\n",
       "6  2020              1.02"
      ]
     },
     "execution_count": 50,
     "metadata": {},
     "output_type": "execute_result"
    }
   ],
   "source": [
    "pd.DataFrame({'ano': [1900,1920,1940,1960,1980,2000,2020],\n",
    "              'anomalia termica' : [-0.08,-0.27,0.12,-0.03,0.26,0.40,1.02]})"
   ]
  },
  {
   "cell_type": "markdown",
   "metadata": {},
   "source": [
    "#### 2) Coloque os anos nos índices conforme a tabela."
   ]
  },
  {
   "cell_type": "code",
   "execution_count": 51,
   "metadata": {},
   "outputs": [
    {
     "data": {
      "text/plain": [
       "1900   -0.08\n",
       "1920   -0.27\n",
       "1940    0.12\n",
       "1960   -0.03\n",
       "1980    0.26\n",
       "2000    0.40\n",
       "2020    1.02\n",
       "dtype: float64"
      ]
     },
     "execution_count": 51,
     "metadata": {},
     "output_type": "execute_result"
    }
   ],
   "source": [
    "\n",
    "# seu código aqui\n",
    "variacaotermica = pd.Series([-0.08,-0.27,0.12,-0.03,0.26,0.40,1.02],\n",
    "                           index=[1900,1920,1940,1960,1980,2000,2020])\n",
    "variacaotermica\n"
   ]
  },
  {
   "cell_type": "markdown",
   "metadata": {},
   "source": [
    "#### 3) A partir do dicionário abaixo, crie uma séries do Pandas:"
   ]
  },
  {
   "cell_type": "code",
   "execution_count": 52,
   "metadata": {},
   "outputs": [
    {
     "data": {
      "text/plain": [
       "1900   -0.08\n",
       "1920   -0.27\n",
       "1940    0.12\n",
       "1960   -0.03\n",
       "1980    0.26\n",
       "2000    0.40\n",
       "2020    1.02\n",
       "dtype: float64"
      ]
     },
     "execution_count": 52,
     "metadata": {},
     "output_type": "execute_result"
    }
   ],
   "source": [
    "dic_temperaturas = {1900: -.08, 1920: -.27, 1940: .12, 1960: -.03, 1980: .26, 2000: .40, 2020: 1.02}\n",
    "\n",
    "# seu código aqui\n",
    "tempdict = pd.Series(dic_temperaturas)\n",
    "tempdict"
   ]
  },
  {
   "cell_type": "markdown",
   "metadata": {},
   "source": [
    "#### 4) Transforme o ndarray abaixo em um dataframe. \n",
    "O numpy é capaz de gerar arrays n-dimensionais com números pseudo-aleatórios de acordo com uma variedade de distribuições, como no exemplo abaixo. Transforme esse nd-array em um DataFrame."
   ]
  },
  {
   "cell_type": "code",
   "execution_count": 53,
   "metadata": {},
   "outputs": [
    {
     "name": "stdout",
     "output_type": "stream",
     "text": [
      "            01          02          03\n",
      "0   113.046684   77.191287  107.117773\n",
      "1    93.524743   93.164712  117.111090\n",
      "2   108.790866  111.479725   89.743403\n",
      "3    99.387695   95.231909   97.462293\n",
      "4    95.755849  103.270070  102.306758\n",
      "5   112.030322  109.934837   96.026162\n",
      "6    95.071485  100.223135  102.485875\n",
      "7   102.734328   96.823438   90.811471\n",
      "8    90.504839  107.312156   93.805314\n",
      "9    99.963218  101.354978   97.339370\n",
      "10   92.575328  102.251583   88.214620\n",
      "11  107.976624  111.810683   87.149678\n",
      "12   85.162905   94.614446  100.924106\n",
      "13  103.116396   97.913973  109.653323\n",
      "14   78.984243   82.241298  101.196285\n",
      "15   89.779336   78.146140   95.949161\n",
      "16  102.480377   81.223422   91.539351\n",
      "17  102.138027   89.451935  105.930541\n",
      "18   91.610618  101.186809   96.125607\n",
      "19  102.937131   99.581675  107.297710\n",
      "<class 'pandas.core.frame.DataFrame'>\n"
     ]
    }
   ],
   "source": [
    "arr = np.random.normal(100, 10, (20,3))\n",
    "\n",
    "# seu código aqui\n",
    "df = pd.DataFrame(arr, columns = ['01','02','03'])\n",
    "print(df)\n",
    "print(type(df))"
   ]
  },
  {
   "cell_type": "markdown",
   "metadata": {},
   "source": [
    "#### 5) Nomeie os índices das linhas com inteiros de 1 a 20, e as colunas com os nomes \"x1\", \"x2\", e \"x3\" respectivamente."
   ]
  },
  {
   "cell_type": "code",
   "execution_count": 54,
   "metadata": {},
   "outputs": [
    {
     "name": "stdout",
     "output_type": "stream",
     "text": [
      "            x1          x2          x3\n",
      "0   113.046684   77.191287  107.117773\n",
      "1    93.524743   93.164712  117.111090\n",
      "2   108.790866  111.479725   89.743403\n",
      "3    99.387695   95.231909   97.462293\n",
      "4    95.755849  103.270070  102.306758\n",
      "5   112.030322  109.934837   96.026162\n",
      "6    95.071485  100.223135  102.485875\n",
      "7   102.734328   96.823438   90.811471\n",
      "8    90.504839  107.312156   93.805314\n",
      "9    99.963218  101.354978   97.339370\n",
      "10   92.575328  102.251583   88.214620\n",
      "11  107.976624  111.810683   87.149678\n",
      "12   85.162905   94.614446  100.924106\n",
      "13  103.116396   97.913973  109.653323\n",
      "14   78.984243   82.241298  101.196285\n",
      "15   89.779336   78.146140   95.949161\n",
      "16  102.480377   81.223422   91.539351\n",
      "17  102.138027   89.451935  105.930541\n",
      "18   91.610618  101.186809   96.125607\n",
      "19  102.937131   99.581675  107.297710\n",
      "<class 'pandas.core.frame.DataFrame'>\n"
     ]
    }
   ],
   "source": [
    "#seu código aqui\n",
    "df = pd.DataFrame(arr, columns = ['x1','x2','x3'])\n",
    "print(df)\n",
    "print(type(df))"
   ]
  },
  {
   "cell_type": "markdown",
   "metadata": {},
   "source": [
    "#### 6) No DataFrame do exercício 5, crie uma nova coluna como sendo a média das três colunas, e dê a ela o nome de \"media\" (não recomendo colocar acentos em nomes de variáveis)."
   ]
  },
  {
   "cell_type": "code",
   "execution_count": 55,
   "metadata": {},
   "outputs": [
    {
     "name": "stdout",
     "output_type": "stream",
     "text": [
      "            x1          x2          x3         Med\n",
      "0   113.046684   77.191287  107.117773   99.118582\n",
      "1    93.524743   93.164712  117.111090  101.266848\n",
      "2   108.790866  111.479725   89.743403  103.337998\n",
      "3    99.387695   95.231909   97.462293   97.360633\n",
      "4    95.755849  103.270070  102.306758  100.444226\n",
      "5   112.030322  109.934837   96.026162  105.997107\n",
      "6    95.071485  100.223135  102.485875   99.260165\n",
      "7   102.734328   96.823438   90.811471   96.789746\n",
      "8    90.504839  107.312156   93.805314   97.207436\n",
      "9    99.963218  101.354978   97.339370   99.552522\n",
      "10   92.575328  102.251583   88.214620   94.347177\n",
      "11  107.976624  111.810683   87.149678  102.312329\n",
      "12   85.162905   94.614446  100.924106   93.567152\n",
      "13  103.116396   97.913973  109.653323  103.561230\n",
      "14   78.984243   82.241298  101.196285   87.473942\n",
      "15   89.779336   78.146140   95.949161   87.958212\n",
      "16  102.480377   81.223422   91.539351   91.747717\n",
      "17  102.138027   89.451935  105.930541   99.173501\n",
      "18   91.610618  101.186809   96.125607   96.307678\n",
      "19  102.937131   99.581675  107.297710  103.272172\n"
     ]
    }
   ],
   "source": [
    "# seu código aqui\n",
    "df = df.eval('Med = (x1 + x2 + x3)/3')\n",
    "print(df)"
   ]
  },
  {
   "cell_type": "markdown",
   "metadata": {},
   "source": [
    "#### 7) No DataFrame do exercício 6, crie uma nova coluna chamada \"log_med\", contendo o logaritmo natural da média calculada no exercício 6 <br>"
   ]
  },
  {
   "cell_type": "code",
   "execution_count": 56,
   "metadata": {},
   "outputs": [
    {
     "data": {
      "text/html": [
       "<div>\n",
       "<style scoped>\n",
       "    .dataframe tbody tr th:only-of-type {\n",
       "        vertical-align: middle;\n",
       "    }\n",
       "\n",
       "    .dataframe tbody tr th {\n",
       "        vertical-align: top;\n",
       "    }\n",
       "\n",
       "    .dataframe thead th {\n",
       "        text-align: right;\n",
       "    }\n",
       "</style>\n",
       "<table border=\"1\" class=\"dataframe\">\n",
       "  <thead>\n",
       "    <tr style=\"text-align: right;\">\n",
       "      <th></th>\n",
       "      <th>x1</th>\n",
       "      <th>x2</th>\n",
       "      <th>x3</th>\n",
       "      <th>Med</th>\n",
       "      <th>log_natural</th>\n",
       "    </tr>\n",
       "  </thead>\n",
       "  <tbody>\n",
       "    <tr>\n",
       "      <th>0</th>\n",
       "      <td>113.046684</td>\n",
       "      <td>77.191287</td>\n",
       "      <td>107.117773</td>\n",
       "      <td>99.118582</td>\n",
       "      <td>1.996155</td>\n",
       "    </tr>\n",
       "    <tr>\n",
       "      <th>1</th>\n",
       "      <td>93.524743</td>\n",
       "      <td>93.164712</td>\n",
       "      <td>117.111090</td>\n",
       "      <td>101.266848</td>\n",
       "      <td>2.005467</td>\n",
       "    </tr>\n",
       "    <tr>\n",
       "      <th>2</th>\n",
       "      <td>108.790866</td>\n",
       "      <td>111.479725</td>\n",
       "      <td>89.743403</td>\n",
       "      <td>103.337998</td>\n",
       "      <td>2.014260</td>\n",
       "    </tr>\n",
       "    <tr>\n",
       "      <th>3</th>\n",
       "      <td>99.387695</td>\n",
       "      <td>95.231909</td>\n",
       "      <td>97.462293</td>\n",
       "      <td>97.360633</td>\n",
       "      <td>1.988383</td>\n",
       "    </tr>\n",
       "    <tr>\n",
       "      <th>4</th>\n",
       "      <td>95.755849</td>\n",
       "      <td>103.270070</td>\n",
       "      <td>102.306758</td>\n",
       "      <td>100.444226</td>\n",
       "      <td>2.001925</td>\n",
       "    </tr>\n",
       "    <tr>\n",
       "      <th>5</th>\n",
       "      <td>112.030322</td>\n",
       "      <td>109.934837</td>\n",
       "      <td>96.026162</td>\n",
       "      <td>105.997107</td>\n",
       "      <td>2.025294</td>\n",
       "    </tr>\n",
       "    <tr>\n",
       "      <th>6</th>\n",
       "      <td>95.071485</td>\n",
       "      <td>100.223135</td>\n",
       "      <td>102.485875</td>\n",
       "      <td>99.260165</td>\n",
       "      <td>1.996775</td>\n",
       "    </tr>\n",
       "    <tr>\n",
       "      <th>7</th>\n",
       "      <td>102.734328</td>\n",
       "      <td>96.823438</td>\n",
       "      <td>90.811471</td>\n",
       "      <td>96.789746</td>\n",
       "      <td>1.985829</td>\n",
       "    </tr>\n",
       "    <tr>\n",
       "      <th>8</th>\n",
       "      <td>90.504839</td>\n",
       "      <td>107.312156</td>\n",
       "      <td>93.805314</td>\n",
       "      <td>97.207436</td>\n",
       "      <td>1.987699</td>\n",
       "    </tr>\n",
       "    <tr>\n",
       "      <th>9</th>\n",
       "      <td>99.963218</td>\n",
       "      <td>101.354978</td>\n",
       "      <td>97.339370</td>\n",
       "      <td>99.552522</td>\n",
       "      <td>1.998052</td>\n",
       "    </tr>\n",
       "    <tr>\n",
       "      <th>10</th>\n",
       "      <td>92.575328</td>\n",
       "      <td>102.251583</td>\n",
       "      <td>88.214620</td>\n",
       "      <td>94.347177</td>\n",
       "      <td>1.974729</td>\n",
       "    </tr>\n",
       "    <tr>\n",
       "      <th>11</th>\n",
       "      <td>107.976624</td>\n",
       "      <td>111.810683</td>\n",
       "      <td>87.149678</td>\n",
       "      <td>102.312329</td>\n",
       "      <td>2.009928</td>\n",
       "    </tr>\n",
       "    <tr>\n",
       "      <th>12</th>\n",
       "      <td>85.162905</td>\n",
       "      <td>94.614446</td>\n",
       "      <td>100.924106</td>\n",
       "      <td>93.567152</td>\n",
       "      <td>1.971123</td>\n",
       "    </tr>\n",
       "    <tr>\n",
       "      <th>13</th>\n",
       "      <td>103.116396</td>\n",
       "      <td>97.913973</td>\n",
       "      <td>109.653323</td>\n",
       "      <td>103.561230</td>\n",
       "      <td>2.015197</td>\n",
       "    </tr>\n",
       "    <tr>\n",
       "      <th>14</th>\n",
       "      <td>78.984243</td>\n",
       "      <td>82.241298</td>\n",
       "      <td>101.196285</td>\n",
       "      <td>87.473942</td>\n",
       "      <td>1.941879</td>\n",
       "    </tr>\n",
       "    <tr>\n",
       "      <th>15</th>\n",
       "      <td>89.779336</td>\n",
       "      <td>78.146140</td>\n",
       "      <td>95.949161</td>\n",
       "      <td>87.958212</td>\n",
       "      <td>1.944276</td>\n",
       "    </tr>\n",
       "    <tr>\n",
       "      <th>16</th>\n",
       "      <td>102.480377</td>\n",
       "      <td>81.223422</td>\n",
       "      <td>91.539351</td>\n",
       "      <td>91.747717</td>\n",
       "      <td>1.962595</td>\n",
       "    </tr>\n",
       "    <tr>\n",
       "      <th>17</th>\n",
       "      <td>102.138027</td>\n",
       "      <td>89.451935</td>\n",
       "      <td>105.930541</td>\n",
       "      <td>99.173501</td>\n",
       "      <td>1.996396</td>\n",
       "    </tr>\n",
       "    <tr>\n",
       "      <th>18</th>\n",
       "      <td>91.610618</td>\n",
       "      <td>101.186809</td>\n",
       "      <td>96.125607</td>\n",
       "      <td>96.307678</td>\n",
       "      <td>1.983661</td>\n",
       "    </tr>\n",
       "    <tr>\n",
       "      <th>19</th>\n",
       "      <td>102.937131</td>\n",
       "      <td>99.581675</td>\n",
       "      <td>107.297710</td>\n",
       "      <td>103.272172</td>\n",
       "      <td>2.013983</td>\n",
       "    </tr>\n",
       "  </tbody>\n",
       "</table>\n",
       "</div>"
      ],
      "text/plain": [
       "            x1          x2          x3         Med  log_natural\n",
       "0   113.046684   77.191287  107.117773   99.118582     1.996155\n",
       "1    93.524743   93.164712  117.111090  101.266848     2.005467\n",
       "2   108.790866  111.479725   89.743403  103.337998     2.014260\n",
       "3    99.387695   95.231909   97.462293   97.360633     1.988383\n",
       "4    95.755849  103.270070  102.306758  100.444226     2.001925\n",
       "5   112.030322  109.934837   96.026162  105.997107     2.025294\n",
       "6    95.071485  100.223135  102.485875   99.260165     1.996775\n",
       "7   102.734328   96.823438   90.811471   96.789746     1.985829\n",
       "8    90.504839  107.312156   93.805314   97.207436     1.987699\n",
       "9    99.963218  101.354978   97.339370   99.552522     1.998052\n",
       "10   92.575328  102.251583   88.214620   94.347177     1.974729\n",
       "11  107.976624  111.810683   87.149678  102.312329     2.009928\n",
       "12   85.162905   94.614446  100.924106   93.567152     1.971123\n",
       "13  103.116396   97.913973  109.653323  103.561230     2.015197\n",
       "14   78.984243   82.241298  101.196285   87.473942     1.941879\n",
       "15   89.779336   78.146140   95.949161   87.958212     1.944276\n",
       "16  102.480377   81.223422   91.539351   91.747717     1.962595\n",
       "17  102.138027   89.451935  105.930541   99.173501     1.996396\n",
       "18   91.610618  101.186809   96.125607   96.307678     1.983661\n",
       "19  102.937131   99.581675  107.297710  103.272172     2.013983"
      ]
     },
     "execution_count": 56,
     "metadata": {},
     "output_type": "execute_result"
    }
   ],
   "source": [
    "# seu código aqui\n",
    "df['log_natural'] = np.log10(df['Med'])\n",
    "df"
   ]
  }
 ],
 "metadata": {
  "kernelspec": {
   "display_name": "Python 3 (ipykernel)",
   "language": "python",
   "name": "python3"
  },
  "language_info": {
   "codemirror_mode": {
    "name": "ipython",
    "version": 3
   },
   "file_extension": ".py",
   "mimetype": "text/x-python",
   "name": "python",
   "nbconvert_exporter": "python",
   "pygments_lexer": "ipython3",
   "version": "3.9.12"
  }
 },
 "nbformat": 4,
 "nbformat_minor": 4
}
